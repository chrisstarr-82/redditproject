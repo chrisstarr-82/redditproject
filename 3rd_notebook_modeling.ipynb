{
 "cells": [
  {
   "cell_type": "markdown",
   "metadata": {},
   "source": [
    "# Import final data"
   ]
  },
  {
   "cell_type": "code",
   "execution_count": 76,
   "metadata": {},
   "outputs": [],
   "source": [
    "import pandas as pd\n",
    "from sklearn.feature_extraction.text import CountVectorizer\n",
    "from sklearn.feature_extraction.text import TfidfVectorizer\n",
    "import seaborn as sns\n",
    "import nltk\n",
    "import spacy\n",
    "from nltk.tokenize import WhitespaceTokenizer\n",
    "from nltk.stem import WordNetLemmatizer\n",
    "import re\n",
    "import string\n",
    "from sklearn.linear_model import LogisticRegression\n",
    "from sklearn.model_selection import cross_val_score\n",
    "from sklearn.ensemble import RandomForestClassifier\n",
    "from sklearn.pipeline import Pipeline\n",
    "from sklearn.model_selection import train_test_split, GridSearchCV\n",
    "import sklearn.metrics as metrics"
   ]
  },
  {
   "cell_type": "code",
   "execution_count": 77,
   "metadata": {},
   "outputs": [
    {
     "data": {
      "text/html": [
       "<div>\n",
       "<style scoped>\n",
       "    .dataframe tbody tr th:only-of-type {\n",
       "        vertical-align: middle;\n",
       "    }\n",
       "\n",
       "    .dataframe tbody tr th {\n",
       "        vertical-align: top;\n",
       "    }\n",
       "\n",
       "    .dataframe thead th {\n",
       "        text-align: right;\n",
       "    }\n",
       "</style>\n",
       "<table border=\"1\" class=\"dataframe\">\n",
       "  <thead>\n",
       "    <tr style=\"text-align: right;\">\n",
       "      <th></th>\n",
       "      <th>id</th>\n",
       "      <th>title</th>\n",
       "      <th>body</th>\n",
       "      <th>num_comments</th>\n",
       "      <th>upvotes</th>\n",
       "      <th>time_posted</th>\n",
       "      <th>time_now</th>\n",
       "      <th>time_delta</th>\n",
       "      <th>subreddit</th>\n",
       "      <th>text_length</th>\n",
       "    </tr>\n",
       "  </thead>\n",
       "  <tbody>\n",
       "    <tr>\n",
       "      <th>0</th>\n",
       "      <td>jvq4pp</td>\n",
       "      <td>PSA: If you hate PETA, that's because a right ...</td>\n",
       "      <td>A huge smear campaign started by \\n\\nPeta Kill...</td>\n",
       "      <td>901</td>\n",
       "      <td>2829</td>\n",
       "      <td>1.605605e+09</td>\n",
       "      <td>2021-05-16 11:36:28.594755</td>\n",
       "      <td>180 days 02:07:37.594756</td>\n",
       "      <td>vegan</td>\n",
       "      <td>285</td>\n",
       "    </tr>\n",
       "    <tr>\n",
       "      <th>1</th>\n",
       "      <td>114zvn</td>\n",
       "      <td>I was a Vegan for several months until this pa...</td>\n",
       "      <td>They said that the goats ate only fresh goat f...</td>\n",
       "      <td>239</td>\n",
       "      <td>0</td>\n",
       "      <td>1.349707e+09</td>\n",
       "      <td>2021-05-16 11:36:28.594762</td>\n",
       "      <td>3141 days 21:06:08.594763</td>\n",
       "      <td>vegan</td>\n",
       "      <td>325</td>\n",
       "    </tr>\n",
       "    <tr>\n",
       "      <th>2</th>\n",
       "      <td>lenglo</td>\n",
       "      <td>why are vegan subs so cowardly when it comes t...</td>\n",
       "      <td>~~I’m pretty sure I was just quietly banned~~ ...</td>\n",
       "      <td>75</td>\n",
       "      <td>3</td>\n",
       "      <td>1.612708e+09</td>\n",
       "      <td>2021-05-16 11:36:28.594795</td>\n",
       "      <td>97 days 21:07:42.594795</td>\n",
       "      <td>vegan</td>\n",
       "      <td>299</td>\n",
       "    </tr>\n",
       "    <tr>\n",
       "      <th>3</th>\n",
       "      <td>ixiq4p</td>\n",
       "      <td>White Veganism and Why it's Problematic</td>\n",
       "      <td>Personally, I'm a person of color and it frust...</td>\n",
       "      <td>64</td>\n",
       "      <td>0</td>\n",
       "      <td>1.600759e+09</td>\n",
       "      <td>2021-05-16 11:36:28.594806</td>\n",
       "      <td>236 days 04:18:37.594806</td>\n",
       "      <td>vegan</td>\n",
       "      <td>383</td>\n",
       "    </tr>\n",
       "    <tr>\n",
       "      <th>4</th>\n",
       "      <td>giowc5</td>\n",
       "      <td>tired of cigarette smokers calling themselves ...</td>\n",
       "      <td>you literally can’t smoke cigarettes and be a ...</td>\n",
       "      <td>14</td>\n",
       "      <td>1</td>\n",
       "      <td>1.589333e+09</td>\n",
       "      <td>2021-05-16 11:36:28.594824</td>\n",
       "      <td>368 days 10:20:15.594824</td>\n",
       "      <td>vegan</td>\n",
       "      <td>89</td>\n",
       "    </tr>\n",
       "  </tbody>\n",
       "</table>\n",
       "</div>"
      ],
      "text/plain": [
       "       id                                              title  \\\n",
       "0  jvq4pp  PSA: If you hate PETA, that's because a right ...   \n",
       "1  114zvn  I was a Vegan for several months until this pa...   \n",
       "2  lenglo  why are vegan subs so cowardly when it comes t...   \n",
       "3  ixiq4p            White Veganism and Why it's Problematic   \n",
       "4  giowc5  tired of cigarette smokers calling themselves ...   \n",
       "\n",
       "                                                body  num_comments  upvotes  \\\n",
       "0  A huge smear campaign started by \\n\\nPeta Kill...           901     2829   \n",
       "1  They said that the goats ate only fresh goat f...           239        0   \n",
       "2  ~~I’m pretty sure I was just quietly banned~~ ...            75        3   \n",
       "3  Personally, I'm a person of color and it frust...            64        0   \n",
       "4  you literally can’t smoke cigarettes and be a ...            14        1   \n",
       "\n",
       "    time_posted                    time_now                 time_delta  \\\n",
       "0  1.605605e+09  2021-05-16 11:36:28.594755   180 days 02:07:37.594756   \n",
       "1  1.349707e+09  2021-05-16 11:36:28.594762  3141 days 21:06:08.594763   \n",
       "2  1.612708e+09  2021-05-16 11:36:28.594795    97 days 21:07:42.594795   \n",
       "3  1.600759e+09  2021-05-16 11:36:28.594806   236 days 04:18:37.594806   \n",
       "4  1.589333e+09  2021-05-16 11:36:28.594824   368 days 10:20:15.594824   \n",
       "\n",
       "  subreddit  text_length  \n",
       "0     vegan          285  \n",
       "1     vegan          325  \n",
       "2     vegan          299  \n",
       "3     vegan          383  \n",
       "4     vegan           89  "
      ]
     },
     "execution_count": 77,
     "metadata": {},
     "output_type": "execute_result"
    }
   ],
   "source": [
    "df = pd.read_csv('./saved_data/second_data.csv')\n",
    "df.head()"
   ]
  },
  {
   "cell_type": "code",
   "execution_count": 78,
   "metadata": {},
   "outputs": [
    {
     "data": {
      "text/html": [
       "<div>\n",
       "<style scoped>\n",
       "    .dataframe tbody tr th:only-of-type {\n",
       "        vertical-align: middle;\n",
       "    }\n",
       "\n",
       "    .dataframe tbody tr th {\n",
       "        vertical-align: top;\n",
       "    }\n",
       "\n",
       "    .dataframe thead th {\n",
       "        text-align: right;\n",
       "    }\n",
       "</style>\n",
       "<table border=\"1\" class=\"dataframe\">\n",
       "  <thead>\n",
       "    <tr style=\"text-align: right;\">\n",
       "      <th></th>\n",
       "      <th>id</th>\n",
       "      <th>title</th>\n",
       "      <th>body</th>\n",
       "      <th>num_comments</th>\n",
       "      <th>upvotes</th>\n",
       "      <th>time_posted</th>\n",
       "      <th>time_now</th>\n",
       "      <th>time_delta</th>\n",
       "      <th>subreddit</th>\n",
       "      <th>body_length</th>\n",
       "    </tr>\n",
       "  </thead>\n",
       "  <tbody>\n",
       "    <tr>\n",
       "      <th>0</th>\n",
       "      <td>jvq4pp</td>\n",
       "      <td>PSA: If you hate PETA, that's because a right ...</td>\n",
       "      <td>A huge smear campaign started by \\n\\nPeta Kill...</td>\n",
       "      <td>901</td>\n",
       "      <td>2829</td>\n",
       "      <td>1.605605e+09</td>\n",
       "      <td>2021-05-16 11:36:28.594755</td>\n",
       "      <td>180 days 02:07:37.594756</td>\n",
       "      <td>vegan</td>\n",
       "      <td>285</td>\n",
       "    </tr>\n",
       "    <tr>\n",
       "      <th>1</th>\n",
       "      <td>114zvn</td>\n",
       "      <td>I was a Vegan for several months until this pa...</td>\n",
       "      <td>They said that the goats ate only fresh goat f...</td>\n",
       "      <td>239</td>\n",
       "      <td>0</td>\n",
       "      <td>1.349707e+09</td>\n",
       "      <td>2021-05-16 11:36:28.594762</td>\n",
       "      <td>3141 days 21:06:08.594763</td>\n",
       "      <td>vegan</td>\n",
       "      <td>325</td>\n",
       "    </tr>\n",
       "    <tr>\n",
       "      <th>2</th>\n",
       "      <td>lenglo</td>\n",
       "      <td>why are vegan subs so cowardly when it comes t...</td>\n",
       "      <td>~~I’m pretty sure I was just quietly banned~~ ...</td>\n",
       "      <td>75</td>\n",
       "      <td>3</td>\n",
       "      <td>1.612708e+09</td>\n",
       "      <td>2021-05-16 11:36:28.594795</td>\n",
       "      <td>97 days 21:07:42.594795</td>\n",
       "      <td>vegan</td>\n",
       "      <td>299</td>\n",
       "    </tr>\n",
       "    <tr>\n",
       "      <th>3</th>\n",
       "      <td>ixiq4p</td>\n",
       "      <td>White Veganism and Why it's Problematic</td>\n",
       "      <td>Personally, I'm a person of color and it frust...</td>\n",
       "      <td>64</td>\n",
       "      <td>0</td>\n",
       "      <td>1.600759e+09</td>\n",
       "      <td>2021-05-16 11:36:28.594806</td>\n",
       "      <td>236 days 04:18:37.594806</td>\n",
       "      <td>vegan</td>\n",
       "      <td>383</td>\n",
       "    </tr>\n",
       "    <tr>\n",
       "      <th>4</th>\n",
       "      <td>giowc5</td>\n",
       "      <td>tired of cigarette smokers calling themselves ...</td>\n",
       "      <td>you literally can’t smoke cigarettes and be a ...</td>\n",
       "      <td>14</td>\n",
       "      <td>1</td>\n",
       "      <td>1.589333e+09</td>\n",
       "      <td>2021-05-16 11:36:28.594824</td>\n",
       "      <td>368 days 10:20:15.594824</td>\n",
       "      <td>vegan</td>\n",
       "      <td>89</td>\n",
       "    </tr>\n",
       "  </tbody>\n",
       "</table>\n",
       "</div>"
      ],
      "text/plain": [
       "       id                                              title  \\\n",
       "0  jvq4pp  PSA: If you hate PETA, that's because a right ...   \n",
       "1  114zvn  I was a Vegan for several months until this pa...   \n",
       "2  lenglo  why are vegan subs so cowardly when it comes t...   \n",
       "3  ixiq4p            White Veganism and Why it's Problematic   \n",
       "4  giowc5  tired of cigarette smokers calling themselves ...   \n",
       "\n",
       "                                                body  num_comments  upvotes  \\\n",
       "0  A huge smear campaign started by \\n\\nPeta Kill...           901     2829   \n",
       "1  They said that the goats ate only fresh goat f...           239        0   \n",
       "2  ~~I’m pretty sure I was just quietly banned~~ ...            75        3   \n",
       "3  Personally, I'm a person of color and it frust...            64        0   \n",
       "4  you literally can’t smoke cigarettes and be a ...            14        1   \n",
       "\n",
       "    time_posted                    time_now                 time_delta  \\\n",
       "0  1.605605e+09  2021-05-16 11:36:28.594755   180 days 02:07:37.594756   \n",
       "1  1.349707e+09  2021-05-16 11:36:28.594762  3141 days 21:06:08.594763   \n",
       "2  1.612708e+09  2021-05-16 11:36:28.594795    97 days 21:07:42.594795   \n",
       "3  1.600759e+09  2021-05-16 11:36:28.594806   236 days 04:18:37.594806   \n",
       "4  1.589333e+09  2021-05-16 11:36:28.594824   368 days 10:20:15.594824   \n",
       "\n",
       "  subreddit  body_length  \n",
       "0     vegan          285  \n",
       "1     vegan          325  \n",
       "2     vegan          299  \n",
       "3     vegan          383  \n",
       "4     vegan           89  "
      ]
     },
     "execution_count": 78,
     "metadata": {},
     "output_type": "execute_result"
    }
   ],
   "source": [
    "# need to rename text_length, is actually body_length\n",
    "df.rename(columns = {'text_length':'body_length'}, inplace=True)\n",
    "df.head()"
   ]
  },
  {
   "cell_type": "code",
   "execution_count": 79,
   "metadata": {},
   "outputs": [
    {
     "data": {
      "text/plain": [
       "id              0\n",
       "title           0\n",
       "body            0\n",
       "num_comments    0\n",
       "upvotes         0\n",
       "time_posted     0\n",
       "time_now        0\n",
       "time_delta      0\n",
       "subreddit       0\n",
       "body_length     0\n",
       "dtype: int64"
      ]
     },
     "execution_count": 79,
     "metadata": {},
     "output_type": "execute_result"
    }
   ],
   "source": [
    "# check for nulls\n",
    "df.isnull().sum()"
   ]
  },
  {
   "cell_type": "markdown",
   "metadata": {},
   "source": [
    "# Remove Outliers"
   ]
  },
  {
   "cell_type": "code",
   "execution_count": 80,
   "metadata": {},
   "outputs": [
    {
     "data": {
      "text/plain": [
       "<AxesSubplot:xlabel='body_length'>"
      ]
     },
     "execution_count": 80,
     "metadata": {},
     "output_type": "execute_result"
    },
    {
     "data": {
      "image/png": "[encoded data removed]",
      "text/plain": [
       "<Figure size 432x288 with 1 Axes>"
      ]
     },
     "metadata": {
      "needs_background": "light"
     },
     "output_type": "display_data"
    }
   ],
   "source": [
    "# From the work in the notebook labeled Initial_Preprocess_EDA, distribution of post length/body length\n",
    "# is likely a problem and a boxplot is useful\n",
    "sns.boxplot(x=df['body_length'])"
   ]
  },
  {
   "cell_type": "code",
   "execution_count": 81,
   "metadata": {},
   "outputs": [],
   "source": [
    "# remove rows with body length greater than 1000\n",
    "df = df[df['body_length'] < 1000]"
   ]
  },
  {
   "cell_type": "code",
   "execution_count": 82,
   "metadata": {},
   "outputs": [
    {
     "data": {
      "text/plain": [
       "<AxesSubplot:xlabel='body_length'>"
      ]
     },
     "execution_count": 82,
     "metadata": {},
     "output_type": "execute_result"
    },
    {
     "data": {
      "image/png": "[encoded data removed]",
      "text/plain": [
       "<Figure size 432x288 with 1 Axes>"
      ]
     },
     "metadata": {
      "needs_background": "light"
     },
     "output_type": "display_data"
    }
   ],
   "source": [
    "sns.boxplot(x=df['body_length'])"
   ]
  },
  {
   "cell_type": "code",
   "execution_count": 83,
   "metadata": {},
   "outputs": [],
   "source": [
    "# remove rows with body length greater than 600\n",
    "df = df[df['body_length'] < 600]"
   ]
  },
  {
   "cell_type": "code",
   "execution_count": 84,
   "metadata": {},
   "outputs": [
    {
     "data": {
      "text/plain": [
       "<AxesSubplot:xlabel='body_length'>"
      ]
     },
     "execution_count": 84,
     "metadata": {},
     "output_type": "execute_result"
    },
    {
     "data": {
      "image/png": "[encoded data removed]",
      "text/plain": [
       "<Figure size 432x288 with 1 Axes>"
      ]
     },
     "metadata": {
      "needs_background": "light"
     },
     "output_type": "display_data"
    }
   ],
   "source": [
    "sns.boxplot(x=df['body_length'])"
   ]
  },
  {
   "cell_type": "markdown",
   "metadata": {},
   "source": [
    "# Show distributions"
   ]
  },
  {
   "cell_type": "code",
   "execution_count": 85,
   "metadata": {},
   "outputs": [
    {
     "data": {
      "text/plain": [
       "count    2266.000000\n",
       "mean      123.545896\n",
       "std       114.786966\n",
       "min         2.000000\n",
       "25%        44.000000\n",
       "50%        87.000000\n",
       "75%       162.000000\n",
       "max       599.000000\n",
       "Name: body_length, dtype: float64"
      ]
     },
     "execution_count": 85,
     "metadata": {},
     "output_type": "execute_result"
    }
   ],
   "source": [
    "df_vegan = df[df['subreddit'] == 'vegan']\n",
    "df_vegan['body_length'].describe()"
   ]
  },
  {
   "cell_type": "code",
   "execution_count": 86,
   "metadata": {},
   "outputs": [
    {
     "data": {
      "text/plain": [
       "count    5255.000000\n",
       "mean       98.378687\n",
       "std        92.831400\n",
       "min         2.000000\n",
       "25%        40.000000\n",
       "50%        70.000000\n",
       "75%       122.000000\n",
       "max       592.000000\n",
       "Name: body_length, dtype: float64"
      ]
     },
     "execution_count": 86,
     "metadata": {},
     "output_type": "execute_result"
    }
   ],
   "source": [
    "df_Cooking = df[df['subreddit'] == 'Cooking']\n",
    "df_Cooking['body_length'].describe()"
   ]
  },
  {
   "cell_type": "code",
   "execution_count": 87,
   "metadata": {},
   "outputs": [
    {
     "data": {
      "text/html": [
       "<div>\n",
       "<style scoped>\n",
       "    .dataframe tbody tr th:only-of-type {\n",
       "        vertical-align: middle;\n",
       "    }\n",
       "\n",
       "    .dataframe tbody tr th {\n",
       "        vertical-align: top;\n",
       "    }\n",
       "\n",
       "    .dataframe thead th {\n",
       "        text-align: right;\n",
       "    }\n",
       "</style>\n",
       "<table border=\"1\" class=\"dataframe\">\n",
       "  <thead>\n",
       "    <tr style=\"text-align: right;\">\n",
       "      <th></th>\n",
       "      <th>id</th>\n",
       "      <th>title</th>\n",
       "      <th>body</th>\n",
       "      <th>num_comments</th>\n",
       "      <th>upvotes</th>\n",
       "      <th>time_posted</th>\n",
       "      <th>time_now</th>\n",
       "      <th>time_delta</th>\n",
       "      <th>subreddit</th>\n",
       "      <th>body_length</th>\n",
       "    </tr>\n",
       "  </thead>\n",
       "  <tbody>\n",
       "    <tr>\n",
       "      <th>1669</th>\n",
       "      <td>2pd34q</td>\n",
       "      <td>Confession....I dislike crock pots!</td>\n",
       "      <td>I know i may get downvotes and accused of bein...</td>\n",
       "      <td>223</td>\n",
       "      <td>20</td>\n",
       "      <td>1.418656e+09</td>\n",
       "      <td>2021-05-16 12:14:20.267206</td>\n",
       "      <td>2343 days 21:15:12.267207</td>\n",
       "      <td>Cooking</td>\n",
       "      <td>261</td>\n",
       "    </tr>\n",
       "    <tr>\n",
       "      <th>1670</th>\n",
       "      <td>luhfdv</td>\n",
       "      <td>Why the FUCK would anyone buy an induction stove?</td>\n",
       "      <td>I can't express my hatred for these fucking th...</td>\n",
       "      <td>89</td>\n",
       "      <td>1</td>\n",
       "      <td>1.614523e+09</td>\n",
       "      <td>2021-05-16 12:14:20.267211</td>\n",
       "      <td>76 days 21:41:20.267212</td>\n",
       "      <td>Cooking</td>\n",
       "      <td>73</td>\n",
       "    </tr>\n",
       "    <tr>\n",
       "      <th>1671</th>\n",
       "      <td>5s8944</td>\n",
       "      <td>Life Pro Tips: If you buy a pack of salad, don...</td>\n",
       "      <td>I'd rather have un-fresh,  dried out, edible l...</td>\n",
       "      <td>112</td>\n",
       "      <td>377</td>\n",
       "      <td>1.486312e+09</td>\n",
       "      <td>2021-05-16 12:14:20.267215</td>\n",
       "      <td>1560 days 19:47:43.267216</td>\n",
       "      <td>Cooking</td>\n",
       "      <td>14</td>\n",
       "    </tr>\n",
       "    <tr>\n",
       "      <th>1672</th>\n",
       "      <td>lwgoa2</td>\n",
       "      <td>Earlier comment....</td>\n",
       "      <td>I made a comment earlier today that was insens...</td>\n",
       "      <td>69</td>\n",
       "      <td>23</td>\n",
       "      <td>1.614731e+09</td>\n",
       "      <td>2021-05-16 12:14:20.267219</td>\n",
       "      <td>74 days 11:48:31.267220</td>\n",
       "      <td>Cooking</td>\n",
       "      <td>126</td>\n",
       "    </tr>\n",
       "    <tr>\n",
       "      <th>1673</th>\n",
       "      <td>38semd</td>\n",
       "      <td>TIL putting mayo on fish</td>\n",
       "      <td>[prevents it from sticking to the grill.](http...</td>\n",
       "      <td>16</td>\n",
       "      <td>2</td>\n",
       "      <td>1.433592e+09</td>\n",
       "      <td>2021-05-16 12:14:20.267227</td>\n",
       "      <td>2171 days 00:06:35.267227</td>\n",
       "      <td>Cooking</td>\n",
       "      <td>7</td>\n",
       "    </tr>\n",
       "    <tr>\n",
       "      <th>...</th>\n",
       "      <td>...</td>\n",
       "      <td>...</td>\n",
       "      <td>...</td>\n",
       "      <td>...</td>\n",
       "      <td>...</td>\n",
       "      <td>...</td>\n",
       "      <td>...</td>\n",
       "      <td>...</td>\n",
       "      <td>...</td>\n",
       "      <td>...</td>\n",
       "    </tr>\n",
       "    <tr>\n",
       "      <th>7661</th>\n",
       "      <td>n7w0rc</td>\n",
       "      <td>MB's Favourite &amp; Simple Coleslaw</td>\n",
       "      <td>\"Eat your veggies\" They say... Well, here I a...</td>\n",
       "      <td>1</td>\n",
       "      <td>0</td>\n",
       "      <td>1.620500e+09</td>\n",
       "      <td>2021-05-19 02:03:07.406931</td>\n",
       "      <td>10 days 07:01:46.406932</td>\n",
       "      <td>Cooking</td>\n",
       "      <td>126</td>\n",
       "    </tr>\n",
       "    <tr>\n",
       "      <th>7662</th>\n",
       "      <td>n7vu04</td>\n",
       "      <td>Trying to make a pizza before my sister comes ...</td>\n",
       "      <td>Im about to make a pizza for mary and possible...</td>\n",
       "      <td>10</td>\n",
       "      <td>0</td>\n",
       "      <td>1.620500e+09</td>\n",
       "      <td>2021-05-19 02:03:07.406937</td>\n",
       "      <td>10 days 07:10:57.406937</td>\n",
       "      <td>Cooking</td>\n",
       "      <td>313</td>\n",
       "    </tr>\n",
       "    <tr>\n",
       "      <th>7663</th>\n",
       "      <td>n7vrdl</td>\n",
       "      <td>What's something you used to do from scratch b...</td>\n",
       "      <td>For me, pesto. Fresh pesto is awesome but larg...</td>\n",
       "      <td>223</td>\n",
       "      <td>209</td>\n",
       "      <td>1.620500e+09</td>\n",
       "      <td>2021-05-19 02:03:07.406944</td>\n",
       "      <td>10 days 07:14:33.406945</td>\n",
       "      <td>Cooking</td>\n",
       "      <td>65</td>\n",
       "    </tr>\n",
       "    <tr>\n",
       "      <th>7664</th>\n",
       "      <td>n7vr82</td>\n",
       "      <td>Your best pizza dough for bbq with pizza stone...</td>\n",
       "      <td>Hi all,\\n\\n&amp;#x200B;\\n\\nI have a gas bbq and a ...</td>\n",
       "      <td>8</td>\n",
       "      <td>1</td>\n",
       "      <td>1.620500e+09</td>\n",
       "      <td>2021-05-19 02:03:07.406949</td>\n",
       "      <td>10 days 07:14:45.406950</td>\n",
       "      <td>Cooking</td>\n",
       "      <td>48</td>\n",
       "    </tr>\n",
       "    <tr>\n",
       "      <th>7665</th>\n",
       "      <td>n7vojv</td>\n",
       "      <td>No golumpki thread? Golumpki thread!</td>\n",
       "      <td>I'm planning making golumpki (a.k.a, gołąbki, ...</td>\n",
       "      <td>7</td>\n",
       "      <td>5</td>\n",
       "      <td>1.620499e+09</td>\n",
       "      <td>2021-05-19 02:03:07.406954</td>\n",
       "      <td>10 days 07:18:17.406954</td>\n",
       "      <td>Cooking</td>\n",
       "      <td>105</td>\n",
       "    </tr>\n",
       "  </tbody>\n",
       "</table>\n",
       "<p>5255 rows × 10 columns</p>\n",
       "</div>"
      ],
      "text/plain": [
       "          id                                              title  \\\n",
       "1669  2pd34q                Confession....I dislike crock pots!   \n",
       "1670  luhfdv  Why the FUCK would anyone buy an induction stove?   \n",
       "1671  5s8944  Life Pro Tips: If you buy a pack of salad, don...   \n",
       "1672  lwgoa2                                Earlier comment....   \n",
       "1673  38semd                           TIL putting mayo on fish   \n",
       "...      ...                                                ...   \n",
       "7661  n7w0rc                   MB's Favourite & Simple Coleslaw   \n",
       "7662  n7vu04  Trying to make a pizza before my sister comes ...   \n",
       "7663  n7vrdl  What's something you used to do from scratch b...   \n",
       "7664  n7vr82  Your best pizza dough for bbq with pizza stone...   \n",
       "7665  n7vojv               No golumpki thread? Golumpki thread!   \n",
       "\n",
       "                                                   body  num_comments  \\\n",
       "1669  I know i may get downvotes and accused of bein...           223   \n",
       "1670  I can't express my hatred for these fucking th...            89   \n",
       "1671  I'd rather have un-fresh,  dried out, edible l...           112   \n",
       "1672  I made a comment earlier today that was insens...            69   \n",
       "1673  [prevents it from sticking to the grill.](http...            16   \n",
       "...                                                 ...           ...   \n",
       "7661   \"Eat your veggies\" They say... Well, here I a...             1   \n",
       "7662  Im about to make a pizza for mary and possible...            10   \n",
       "7663  For me, pesto. Fresh pesto is awesome but larg...           223   \n",
       "7664  Hi all,\\n\\n&#x200B;\\n\\nI have a gas bbq and a ...             8   \n",
       "7665  I'm planning making golumpki (a.k.a, gołąbki, ...             7   \n",
       "\n",
       "      upvotes   time_posted                    time_now  \\\n",
       "1669       20  1.418656e+09  2021-05-16 12:14:20.267206   \n",
       "1670        1  1.614523e+09  2021-05-16 12:14:20.267211   \n",
       "1671      377  1.486312e+09  2021-05-16 12:14:20.267215   \n",
       "1672       23  1.614731e+09  2021-05-16 12:14:20.267219   \n",
       "1673        2  1.433592e+09  2021-05-16 12:14:20.267227   \n",
       "...       ...           ...                         ...   \n",
       "7661        0  1.620500e+09  2021-05-19 02:03:07.406931   \n",
       "7662        0  1.620500e+09  2021-05-19 02:03:07.406937   \n",
       "7663      209  1.620500e+09  2021-05-19 02:03:07.406944   \n",
       "7664        1  1.620500e+09  2021-05-19 02:03:07.406949   \n",
       "7665        5  1.620499e+09  2021-05-19 02:03:07.406954   \n",
       "\n",
       "                     time_delta subreddit  body_length  \n",
       "1669  2343 days 21:15:12.267207   Cooking          261  \n",
       "1670    76 days 21:41:20.267212   Cooking           73  \n",
       "1671  1560 days 19:47:43.267216   Cooking           14  \n",
       "1672    74 days 11:48:31.267220   Cooking          126  \n",
       "1673  2171 days 00:06:35.267227   Cooking            7  \n",
       "...                         ...       ...          ...  \n",
       "7661    10 days 07:01:46.406932   Cooking          126  \n",
       "7662    10 days 07:10:57.406937   Cooking          313  \n",
       "7663    10 days 07:14:33.406945   Cooking           65  \n",
       "7664    10 days 07:14:45.406950   Cooking           48  \n",
       "7665    10 days 07:18:17.406954   Cooking          105  \n",
       "\n",
       "[5255 rows x 10 columns]"
      ]
     },
     "execution_count": 87,
     "metadata": {},
     "output_type": "execute_result"
    }
   ],
   "source": [
    "df_Cooking"
   ]
  },
  {
   "cell_type": "markdown",
   "metadata": {},
   "source": [
    "**Analysis**: In the Initial_Preprocess_EDA notebook, there were major differences in mean and standard deviation between the data in the two subreddits. Removing outliers made the means, standard deviations, and medians reasonably similar"
   ]
  },
  {
   "cell_type": "markdown",
   "metadata": {},
   "source": [
    "# Clean Data"
   ]
  },
  {
   "cell_type": "code",
   "execution_count": 88,
   "metadata": {},
   "outputs": [
    {
     "data": {
      "text/plain": [
       "(7521, 10)"
      ]
     },
     "execution_count": 88,
     "metadata": {},
     "output_type": "execute_result"
    }
   ],
   "source": [
    "# check the shape before cleaning\n",
    "df.shape"
   ]
  },
  {
   "cell_type": "code",
   "execution_count": 89,
   "metadata": {},
   "outputs": [],
   "source": [
    "# Text cleaning function from \n",
    "# https://medium.com/analytics-vidhya/text-cleaning-in-natural-language-processing-nlp-bea2c27035a6\n",
    "def clean_text(col_w_text):\n",
    "    # replace html characters with space\n",
    "    col_w_text= [re.sub('<.*?>', ' ', t) for t in col_w_text]  \n",
    "    #remove punctuation\n",
    "    col_w_text = [t.translate(str.maketrans(' ',' ',string.punctuation)) for t in col_w_text]\n",
    "    # keep only letters and numbers\n",
    "    col_w_text = [re.sub('[^a-zA-Z]',' ',t) for t in col_w_text] \n",
    "    # replace newline with space\n",
    "    col_w_text = [re.sub(\"\\n\",\" \",t) for t in col_w_text]\n",
    "    # convert to lowercase\n",
    "    col_w_text = [t.lower() for t in col_w_text]\n",
    "    # split and join the words\n",
    "    col_w_text = [' '.join(t.split()) for t in col_w_text]\n",
    "    \n",
    "    return col_w_text"
   ]
  },
  {
   "cell_type": "code",
   "execution_count": 90,
   "metadata": {},
   "outputs": [],
   "source": [
    "# clean the title column\n",
    "df['title'] = clean_text(df['title'])"
   ]
  },
  {
   "cell_type": "code",
   "execution_count": 91,
   "metadata": {},
   "outputs": [],
   "source": [
    "# clean the body column\n",
    "df['body'] = clean_text(df['body'])"
   ]
  },
  {
   "cell_type": "code",
   "execution_count": 92,
   "metadata": {},
   "outputs": [],
   "source": [
    "# update the length of the body text. The length is 1 for an empty column.\n",
    "df['body_length'] = [len(x.split(' ')) for x in df.body]"
   ]
  },
  {
   "cell_type": "code",
   "execution_count": 93,
   "metadata": {},
   "outputs": [
    {
     "data": {
      "text/html": [
       "<div>\n",
       "<style scoped>\n",
       "    .dataframe tbody tr th:only-of-type {\n",
       "        vertical-align: middle;\n",
       "    }\n",
       "\n",
       "    .dataframe tbody tr th {\n",
       "        vertical-align: top;\n",
       "    }\n",
       "\n",
       "    .dataframe thead th {\n",
       "        text-align: right;\n",
       "    }\n",
       "</style>\n",
       "<table border=\"1\" class=\"dataframe\">\n",
       "  <thead>\n",
       "    <tr style=\"text-align: right;\">\n",
       "      <th></th>\n",
       "      <th>id</th>\n",
       "      <th>title</th>\n",
       "      <th>body</th>\n",
       "      <th>num_comments</th>\n",
       "      <th>upvotes</th>\n",
       "      <th>time_posted</th>\n",
       "      <th>time_now</th>\n",
       "      <th>time_delta</th>\n",
       "      <th>subreddit</th>\n",
       "      <th>body_length</th>\n",
       "    </tr>\n",
       "  </thead>\n",
       "  <tbody>\n",
       "    <tr>\n",
       "      <th>0</th>\n",
       "      <td>jvq4pp</td>\n",
       "      <td>psa if you hate peta thats because a right win...</td>\n",
       "      <td>a huge smear campaign started by peta kills an...</td>\n",
       "      <td>901</td>\n",
       "      <td>2829</td>\n",
       "      <td>1.605605e+09</td>\n",
       "      <td>2021-05-16 11:36:28.594755</td>\n",
       "      <td>180 days 02:07:37.594756</td>\n",
       "      <td>vegan</td>\n",
       "      <td>280</td>\n",
       "    </tr>\n",
       "    <tr>\n",
       "      <th>1</th>\n",
       "      <td>114zvn</td>\n",
       "      <td>i was a vegan for several months until this pa...</td>\n",
       "      <td>they said that the goats ate only fresh goat f...</td>\n",
       "      <td>239</td>\n",
       "      <td>0</td>\n",
       "      <td>1.349707e+09</td>\n",
       "      <td>2021-05-16 11:36:28.594762</td>\n",
       "      <td>3141 days 21:06:08.594763</td>\n",
       "      <td>vegan</td>\n",
       "      <td>300</td>\n",
       "    </tr>\n",
       "    <tr>\n",
       "      <th>2</th>\n",
       "      <td>lenglo</td>\n",
       "      <td>why are vegan subs so cowardly when it comes t...</td>\n",
       "      <td>i m pretty sure i was just quietly banned edit...</td>\n",
       "      <td>75</td>\n",
       "      <td>3</td>\n",
       "      <td>1.612708e+09</td>\n",
       "      <td>2021-05-16 11:36:28.594795</td>\n",
       "      <td>97 days 21:07:42.594795</td>\n",
       "      <td>vegan</td>\n",
       "      <td>321</td>\n",
       "    </tr>\n",
       "    <tr>\n",
       "      <th>3</th>\n",
       "      <td>ixiq4p</td>\n",
       "      <td>white veganism and why its problematic</td>\n",
       "      <td>personally im a person of color and it frustra...</td>\n",
       "      <td>64</td>\n",
       "      <td>0</td>\n",
       "      <td>1.600759e+09</td>\n",
       "      <td>2021-05-16 11:36:28.594806</td>\n",
       "      <td>236 days 04:18:37.594806</td>\n",
       "      <td>vegan</td>\n",
       "      <td>382</td>\n",
       "    </tr>\n",
       "    <tr>\n",
       "      <th>4</th>\n",
       "      <td>giowc5</td>\n",
       "      <td>tired of cigarette smokers calling themselves ...</td>\n",
       "      <td>you literally can t smoke cigarettes and be a ...</td>\n",
       "      <td>14</td>\n",
       "      <td>1</td>\n",
       "      <td>1.589333e+09</td>\n",
       "      <td>2021-05-16 11:36:28.594824</td>\n",
       "      <td>368 days 10:20:15.594824</td>\n",
       "      <td>vegan</td>\n",
       "      <td>93</td>\n",
       "    </tr>\n",
       "  </tbody>\n",
       "</table>\n",
       "</div>"
      ],
      "text/plain": [
       "       id                                              title  \\\n",
       "0  jvq4pp  psa if you hate peta thats because a right win...   \n",
       "1  114zvn  i was a vegan for several months until this pa...   \n",
       "2  lenglo  why are vegan subs so cowardly when it comes t...   \n",
       "3  ixiq4p             white veganism and why its problematic   \n",
       "4  giowc5  tired of cigarette smokers calling themselves ...   \n",
       "\n",
       "                                                body  num_comments  upvotes  \\\n",
       "0  a huge smear campaign started by peta kills an...           901     2829   \n",
       "1  they said that the goats ate only fresh goat f...           239        0   \n",
       "2  i m pretty sure i was just quietly banned edit...            75        3   \n",
       "3  personally im a person of color and it frustra...            64        0   \n",
       "4  you literally can t smoke cigarettes and be a ...            14        1   \n",
       "\n",
       "    time_posted                    time_now                 time_delta  \\\n",
       "0  1.605605e+09  2021-05-16 11:36:28.594755   180 days 02:07:37.594756   \n",
       "1  1.349707e+09  2021-05-16 11:36:28.594762  3141 days 21:06:08.594763   \n",
       "2  1.612708e+09  2021-05-16 11:36:28.594795    97 days 21:07:42.594795   \n",
       "3  1.600759e+09  2021-05-16 11:36:28.594806   236 days 04:18:37.594806   \n",
       "4  1.589333e+09  2021-05-16 11:36:28.594824   368 days 10:20:15.594824   \n",
       "\n",
       "  subreddit  body_length  \n",
       "0     vegan          280  \n",
       "1     vegan          300  \n",
       "2     vegan          321  \n",
       "3     vegan          382  \n",
       "4     vegan           93  "
      ]
     },
     "execution_count": 93,
     "metadata": {},
     "output_type": "execute_result"
    }
   ],
   "source": [
    "# Remove any empty body columns created during cleaning\n",
    "df = df[df.body_length != 1]\n",
    "df.head()"
   ]
  },
  {
   "cell_type": "code",
   "execution_count": 94,
   "metadata": {},
   "outputs": [
    {
     "data": {
      "text/plain": [
       "(7519, 10)"
      ]
     },
     "execution_count": 94,
     "metadata": {},
     "output_type": "execute_result"
    }
   ],
   "source": [
    "# only removed two rows\n",
    "df.shape"
   ]
  },
  {
   "cell_type": "code",
   "execution_count": 95,
   "metadata": {},
   "outputs": [],
   "source": [
    "# get the length of the title text\n",
    "df['title_length'] = [len(x.split(' ')) for x in df.title]"
   ]
  },
  {
   "cell_type": "code",
   "execution_count": 96,
   "metadata": {},
   "outputs": [
    {
     "data": {
      "text/html": [
       "<div>\n",
       "<style scoped>\n",
       "    .dataframe tbody tr th:only-of-type {\n",
       "        vertical-align: middle;\n",
       "    }\n",
       "\n",
       "    .dataframe tbody tr th {\n",
       "        vertical-align: top;\n",
       "    }\n",
       "\n",
       "    .dataframe thead th {\n",
       "        text-align: right;\n",
       "    }\n",
       "</style>\n",
       "<table border=\"1\" class=\"dataframe\">\n",
       "  <thead>\n",
       "    <tr style=\"text-align: right;\">\n",
       "      <th></th>\n",
       "      <th>id</th>\n",
       "      <th>title</th>\n",
       "      <th>body</th>\n",
       "      <th>num_comments</th>\n",
       "      <th>upvotes</th>\n",
       "      <th>time_posted</th>\n",
       "      <th>time_now</th>\n",
       "      <th>time_delta</th>\n",
       "      <th>subreddit</th>\n",
       "      <th>body_length</th>\n",
       "      <th>title_length</th>\n",
       "    </tr>\n",
       "  </thead>\n",
       "  <tbody>\n",
       "    <tr>\n",
       "      <th>0</th>\n",
       "      <td>jvq4pp</td>\n",
       "      <td>psa if you hate peta thats because a right win...</td>\n",
       "      <td>a huge smear campaign started by peta kills an...</td>\n",
       "      <td>901</td>\n",
       "      <td>2829</td>\n",
       "      <td>1.605605e+09</td>\n",
       "      <td>2021-05-16 11:36:28.594755</td>\n",
       "      <td>180 days 02:07:37.594756</td>\n",
       "      <td>vegan</td>\n",
       "      <td>280</td>\n",
       "      <td>16</td>\n",
       "    </tr>\n",
       "    <tr>\n",
       "      <th>1</th>\n",
       "      <td>114zvn</td>\n",
       "      <td>i was a vegan for several months until this pa...</td>\n",
       "      <td>they said that the goats ate only fresh goat f...</td>\n",
       "      <td>239</td>\n",
       "      <td>0</td>\n",
       "      <td>1.349707e+09</td>\n",
       "      <td>2021-05-16 11:36:28.594762</td>\n",
       "      <td>3141 days 21:06:08.594763</td>\n",
       "      <td>vegan</td>\n",
       "      <td>300</td>\n",
       "      <td>38</td>\n",
       "    </tr>\n",
       "    <tr>\n",
       "      <th>2</th>\n",
       "      <td>lenglo</td>\n",
       "      <td>why are vegan subs so cowardly when it comes t...</td>\n",
       "      <td>i m pretty sure i was just quietly banned edit...</td>\n",
       "      <td>75</td>\n",
       "      <td>3</td>\n",
       "      <td>1.612708e+09</td>\n",
       "      <td>2021-05-16 11:36:28.594795</td>\n",
       "      <td>97 days 21:07:42.594795</td>\n",
       "      <td>vegan</td>\n",
       "      <td>321</td>\n",
       "      <td>13</td>\n",
       "    </tr>\n",
       "    <tr>\n",
       "      <th>3</th>\n",
       "      <td>ixiq4p</td>\n",
       "      <td>white veganism and why its problematic</td>\n",
       "      <td>personally im a person of color and it frustra...</td>\n",
       "      <td>64</td>\n",
       "      <td>0</td>\n",
       "      <td>1.600759e+09</td>\n",
       "      <td>2021-05-16 11:36:28.594806</td>\n",
       "      <td>236 days 04:18:37.594806</td>\n",
       "      <td>vegan</td>\n",
       "      <td>382</td>\n",
       "      <td>6</td>\n",
       "    </tr>\n",
       "    <tr>\n",
       "      <th>4</th>\n",
       "      <td>giowc5</td>\n",
       "      <td>tired of cigarette smokers calling themselves ...</td>\n",
       "      <td>you literally can t smoke cigarettes and be a ...</td>\n",
       "      <td>14</td>\n",
       "      <td>1</td>\n",
       "      <td>1.589333e+09</td>\n",
       "      <td>2021-05-16 11:36:28.594824</td>\n",
       "      <td>368 days 10:20:15.594824</td>\n",
       "      <td>vegan</td>\n",
       "      <td>93</td>\n",
       "      <td>7</td>\n",
       "    </tr>\n",
       "  </tbody>\n",
       "</table>\n",
       "</div>"
      ],
      "text/plain": [
       "       id                                              title  \\\n",
       "0  jvq4pp  psa if you hate peta thats because a right win...   \n",
       "1  114zvn  i was a vegan for several months until this pa...   \n",
       "2  lenglo  why are vegan subs so cowardly when it comes t...   \n",
       "3  ixiq4p             white veganism and why its problematic   \n",
       "4  giowc5  tired of cigarette smokers calling themselves ...   \n",
       "\n",
       "                                                body  num_comments  upvotes  \\\n",
       "0  a huge smear campaign started by peta kills an...           901     2829   \n",
       "1  they said that the goats ate only fresh goat f...           239        0   \n",
       "2  i m pretty sure i was just quietly banned edit...            75        3   \n",
       "3  personally im a person of color and it frustra...            64        0   \n",
       "4  you literally can t smoke cigarettes and be a ...            14        1   \n",
       "\n",
       "    time_posted                    time_now                 time_delta  \\\n",
       "0  1.605605e+09  2021-05-16 11:36:28.594755   180 days 02:07:37.594756   \n",
       "1  1.349707e+09  2021-05-16 11:36:28.594762  3141 days 21:06:08.594763   \n",
       "2  1.612708e+09  2021-05-16 11:36:28.594795    97 days 21:07:42.594795   \n",
       "3  1.600759e+09  2021-05-16 11:36:28.594806   236 days 04:18:37.594806   \n",
       "4  1.589333e+09  2021-05-16 11:36:28.594824   368 days 10:20:15.594824   \n",
       "\n",
       "  subreddit  body_length  title_length  \n",
       "0     vegan          280            16  \n",
       "1     vegan          300            38  \n",
       "2     vegan          321            13  \n",
       "3     vegan          382             6  \n",
       "4     vegan           93             7  "
      ]
     },
     "execution_count": 96,
     "metadata": {},
     "output_type": "execute_result"
    }
   ],
   "source": [
    "# Remove any empty title columns\n",
    "df = df[df.title_length != 1]\n",
    "df.head()"
   ]
  },
  {
   "cell_type": "code",
   "execution_count": 97,
   "metadata": {},
   "outputs": [
    {
     "data": {
      "text/plain": [
       "(7436, 11)"
      ]
     },
     "execution_count": 97,
     "metadata": {},
     "output_type": "execute_result"
    }
   ],
   "source": [
    "# removed 83 rows\n",
    "df.shape"
   ]
  },
  {
   "cell_type": "code",
   "execution_count": 98,
   "metadata": {},
   "outputs": [
    {
     "data": {
      "text/plain": [
       "Cooking    5210\n",
       "vegan      2226\n",
       "Name: subreddit, dtype: int64"
      ]
     },
     "execution_count": 98,
     "metadata": {},
     "output_type": "execute_result"
    }
   ],
   "source": [
    "# Check the distribution between subreddits\n",
    "df['subreddit'].value_counts()"
   ]
  },
  {
   "cell_type": "markdown",
   "metadata": {},
   "source": [
    "# Based on the work done in the second notebook, Lemmatize"
   ]
  },
  {
   "cell_type": "code",
   "execution_count": 99,
   "metadata": {},
   "outputs": [],
   "source": [
    "lemmatizer = WordNetLemmatizer()\n",
    "tokenizer = WhitespaceTokenizer()"
   ]
  },
  {
   "cell_type": "code",
   "execution_count": 100,
   "metadata": {},
   "outputs": [],
   "source": [
    "# Function to lemmatize text\n",
    "# Referred to https://stackoverflow.com/questions/47557563/lemmatization-of-all-pandas-cells\n",
    "# Need to tokenize to create words, then lemmatize\n",
    "def lemmatize_text(text):\n",
    "    return ' '.join([lemmatizer.lemmatize(w) for w in tokenizer.tokenize(text)])"
   ]
  },
  {
   "cell_type": "code",
   "execution_count": 101,
   "metadata": {},
   "outputs": [],
   "source": [
    "# Lemmatize the title column\n",
    "df['lemmatized_title'] = df['title'].apply(lemmatize_text)"
   ]
  },
  {
   "cell_type": "code",
   "execution_count": 102,
   "metadata": {},
   "outputs": [],
   "source": [
    "# Lemmatize the body column\n",
    "df['lemmatized_body'] = df['body'].apply(lemmatize_text)"
   ]
  },
  {
   "cell_type": "code",
   "execution_count": 103,
   "metadata": {},
   "outputs": [],
   "source": [
    "# binarize the target variable. \n",
    "# Vegan is the class with the idealistic consumers, so I will make it the positive class.\n",
    "df['subreddit'] = df['subreddit'].map({'vegan': 1, 'Cooking': 0})"
   ]
  },
  {
   "cell_type": "markdown",
   "metadata": {},
   "source": [
    "# Try a random forest model on the title"
   ]
  },
  {
   "cell_type": "code",
   "execution_count": 104,
   "metadata": {},
   "outputs": [],
   "source": [
    "# Model the lemmatized title\n",
    "X = df['lemmatized_title']\n",
    "y = df['subreddit']"
   ]
  },
  {
   "cell_type": "markdown",
   "metadata": {},
   "source": [
    "#### Obtain baseline accuracy - 0.70"
   ]
  },
  {
   "cell_type": "code",
   "execution_count": 105,
   "metadata": {},
   "outputs": [
    {
     "data": {
      "text/plain": [
       "0.700645508337816"
      ]
     },
     "execution_count": 105,
     "metadata": {},
     "output_type": "execute_result"
    }
   ],
   "source": [
    "y.value_counts(normalize=True).values[0]"
   ]
  },
  {
   "cell_type": "code",
   "execution_count": 106,
   "metadata": {},
   "outputs": [],
   "source": [
    "# stratify the samples because the are imbalanced\n",
    "X_train, X_test, y_train, y_test = train_test_split(X, y, random_state=42, stratify=y)"
   ]
  },
  {
   "cell_type": "code",
   "execution_count": 107,
   "metadata": {},
   "outputs": [],
   "source": [
    "# Create a pipeline for random forest modeling\n",
    "pipe_rand_forest = Pipeline([\n",
    "    ('vect', TfidfVectorizer(stop_words = 'english')),\n",
    "    ('model', RandomForestClassifier(max_depth=4, class_weight='balanced', n_jobs = -1)),\n",
    "])"
   ]
  },
  {
   "cell_type": "code",
   "execution_count": 108,
   "metadata": {},
   "outputs": [
    {
     "name": "stdout",
     "output_type": "stream",
     "text": [
      "0.8725107285790058\n"
     ]
    },
    {
     "data": {
      "text/plain": [
       "{'vect__max_df': 0.9, 'vect__max_features': 1000}"
      ]
     },
     "execution_count": 108,
     "metadata": {},
     "output_type": "execute_result"
    }
   ],
   "source": [
    "grid = {\n",
    "    'vect__max_df': [.7, .8, .9],\n",
    "    'vect__max_features': [200, 1000]\n",
    "}\n",
    "model_1 = GridSearchCV(pipe_rand_forest, param_grid=grid)\n",
    "model_1.fit(X_train, y_train)\n",
    "print(model_1.best_score_) # <- a cross val score\n",
    "model_1.best_params_"
   ]
  },
  {
   "cell_type": "code",
   "execution_count": 109,
   "metadata": {},
   "outputs": [
    {
     "data": {
      "text/plain": [
       "0.8612157073695536"
      ]
     },
     "execution_count": 109,
     "metadata": {},
     "output_type": "execute_result"
    }
   ],
   "source": [
    "# model score for test data\n",
    "model_1.score(X_test, y_test)"
   ]
  },
  {
   "cell_type": "code",
   "execution_count": 110,
   "metadata": {},
   "outputs": [
    {
     "data": {
      "text/plain": [
       "0.8913394298009683"
      ]
     },
     "execution_count": 110,
     "metadata": {},
     "output_type": "execute_result"
    }
   ],
   "source": [
    "# model score for training data\n",
    "model_1.score(X_train, y_train)"
   ]
  },
  {
   "cell_type": "markdown",
   "metadata": {},
   "source": [
    "**CONCLUSION**: the cross val score from GridSearchCV, the test score, and the train score are very close to each other. The scores are higher than the baseline of 0.70. Models with scores above 0.85 are okay. So this is a decent model."
   ]
  },
  {
   "cell_type": "markdown",
   "metadata": {},
   "source": [
    "# Try a Logistic Regression Model on the same data as above"
   ]
  },
  {
   "cell_type": "code",
   "execution_count": 111,
   "metadata": {},
   "outputs": [],
   "source": [
    "pipe_log_r = Pipeline([\n",
    "    ('vect', TfidfVectorizer(stop_words = 'english')),\n",
    "    ('model', LogisticRegression())\n",
    "])"
   ]
  },
  {
   "cell_type": "code",
   "execution_count": 112,
   "metadata": {},
   "outputs": [
    {
     "name": "stdout",
     "output_type": "stream",
     "text": [
      "0.8929525692334893\n"
     ]
    },
    {
     "data": {
      "text/plain": [
       "{'vect__max_df': 0.7, 'vect__max_features': 1000}"
      ]
     },
     "execution_count": 112,
     "metadata": {},
     "output_type": "execute_result"
    }
   ],
   "source": [
    "# Use the data and parameters from above\n",
    "model_2 = GridSearchCV(pipe_log_r, param_grid=grid)\n",
    "model_2.fit(X_train, y_train)\n",
    "print(model_2.best_score_) # <- a cross val score\n",
    "model_2.best_params_"
   ]
  },
  {
   "cell_type": "code",
   "execution_count": 113,
   "metadata": {},
   "outputs": [
    {
     "data": {
      "text/plain": [
       "0.8811188811188811"
      ]
     },
     "execution_count": 113,
     "metadata": {},
     "output_type": "execute_result"
    }
   ],
   "source": [
    "# model score for test data\n",
    "model_2.score(X_test, y_test)"
   ]
  },
  {
   "cell_type": "code",
   "execution_count": 114,
   "metadata": {},
   "outputs": [
    {
     "data": {
      "text/plain": [
       "0.9168011475703783"
      ]
     },
     "execution_count": 114,
     "metadata": {},
     "output_type": "execute_result"
    }
   ],
   "source": [
    "# model score for training data\n",
    "model_2.score(X_train, y_train)"
   ]
  },
  {
   "cell_type": "markdown",
   "metadata": {},
   "source": [
    "**Conclusion**: train score is a little bigger than test score. May be overfit. Also, feature importances are easier to interpret in random forest models than coefficients in logistic regression models. I will use random forest models."
   ]
  },
  {
   "cell_type": "markdown",
   "metadata": {},
   "source": [
    "## For Tf-IDF vectorized data, create random forest models on lemmatized title and body text"
   ]
  },
  {
   "cell_type": "markdown",
   "metadata": {},
   "source": [
    "### Grid and pipe for the random forest models with the Tfidf Vectorizer"
   ]
  },
  {
   "cell_type": "code",
   "execution_count": 115,
   "metadata": {},
   "outputs": [],
   "source": [
    "# Create a pipeline for random forest modeling for both the title and body text\n",
    "# Use class_weight of balanced because these are imbalanced classes\n",
    "pipe_rforest_Tfidf = Pipeline([\n",
    "    ('vect', TfidfVectorizer(stop_words = 'english')),\n",
    "    ('model', RandomForestClassifier(class_weight='balanced', n_jobs = -1))\n",
    "])\n"
   ]
  },
  {
   "cell_type": "code",
   "execution_count": 116,
   "metadata": {},
   "outputs": [
    {
     "name": "stdout",
     "output_type": "stream",
     "text": [
      "0.8900837391709662\n"
     ]
    },
    {
     "data": {
      "text/plain": [
       "{'model__max_depth': 15, 'vect__max_df': 0.85, 'vect__max_features': 3000}"
      ]
     },
     "execution_count": 116,
     "metadata": {},
     "output_type": "execute_result"
    }
   ],
   "source": [
    "# run the model on the X and y that were created above, from the lemmatized title\n",
    "# use this tuning for the rest of the models\n",
    "grid = {\n",
    "    'vect__max_df': [.75, .8, .85],\n",
    "    'vect__max_features': [1000, 3000, 5000],\n",
    "    'model__max_depth': [5, 10, 15]\n",
    "}\n",
    "\n",
    "model_3 = GridSearchCV(pipe_rforest_Tfidf, param_grid=grid)\n",
    "model_3.fit(X_train, y_train)\n",
    "print(model_3.best_score_) # <- a cross val score\n",
    "model_3.best_params_"
   ]
  },
  {
   "cell_type": "code",
   "execution_count": 117,
   "metadata": {},
   "outputs": [
    {
     "data": {
      "text/plain": [
       "0.9108839878070647"
      ]
     },
     "execution_count": 117,
     "metadata": {},
     "output_type": "execute_result"
    }
   ],
   "source": [
    "model_3.score(X_train, y_train)"
   ]
  },
  {
   "cell_type": "code",
   "execution_count": 118,
   "metadata": {
    "scrolled": true
   },
   "outputs": [
    {
     "data": {
      "text/plain": [
       "0.8768154922001076"
      ]
     },
     "execution_count": 118,
     "metadata": {},
     "output_type": "execute_result"
    }
   ],
   "source": [
    "model_3.score(X_test, y_test)"
   ]
  },
  {
   "cell_type": "markdown",
   "metadata": {},
   "source": [
    "**CONCLUSION FOR LEMMATIZED TITLE**: the cross val score from GridSearchCV, the test score, and the train score are very close to each other. The scores are higher than the baseline of 0.70. Models with scores above 0.85 are okay. So this is a decent model."
   ]
  },
  {
   "cell_type": "markdown",
   "metadata": {},
   "source": [
    "#### Model for lemmatized body text"
   ]
  },
  {
   "cell_type": "code",
   "execution_count": 119,
   "metadata": {},
   "outputs": [],
   "source": [
    "# Model the lemmatized body\n",
    "X1 = df['lemmatized_body']\n",
    "y1 = df['subreddit']"
   ]
  },
  {
   "cell_type": "code",
   "execution_count": 120,
   "metadata": {},
   "outputs": [],
   "source": [
    "# stratify the samples because the are imbalanced\n",
    "X1_train, X1_test, y1_train, y1_test = train_test_split(X1, y1, random_state=42, stratify=y)"
   ]
  },
  {
   "cell_type": "code",
   "execution_count": 121,
   "metadata": {},
   "outputs": [
    {
     "name": "stdout",
     "output_type": "stream",
     "text": [
      "0.9393932526479901\n"
     ]
    },
    {
     "data": {
      "text/plain": [
       "{'model__max_depth': 15, 'vect__max_df': 0.75, 'vect__max_features': 3000}"
      ]
     },
     "execution_count": 121,
     "metadata": {},
     "output_type": "execute_result"
    }
   ],
   "source": [
    "model_4 = GridSearchCV(pipe_rforest_Tfidf, param_grid=grid)\n",
    "model_4.fit(X1_train, y1_train)\n",
    "print(model_4.best_score_) # <- a cross val score\n",
    "model_4.best_params_"
   ]
  },
  {
   "cell_type": "code",
   "execution_count": 122,
   "metadata": {},
   "outputs": [
    {
     "data": {
      "text/plain": [
       "0.9616281154742693"
      ]
     },
     "execution_count": 122,
     "metadata": {},
     "output_type": "execute_result"
    }
   ],
   "source": [
    "model_4.score(X1_train, y1_train)"
   ]
  },
  {
   "cell_type": "code",
   "execution_count": 123,
   "metadata": {
    "scrolled": true
   },
   "outputs": [
    {
     "data": {
      "text/plain": [
       "0.9381387842926304"
      ]
     },
     "execution_count": 123,
     "metadata": {},
     "output_type": "execute_result"
    }
   ],
   "source": [
    "model_4.score(X1_test, y1_test)"
   ]
  },
  {
   "cell_type": "markdown",
   "metadata": {},
   "source": [
    "**CONCLUSION FOR LEMMATIZED BODY**: the cross val score from GridSearchCV, the test score, and the train score are very close to each other. The scores are higher than the baseline of 0.70. This is a very high score. So this is a good model, as expected because the body text has more data."
   ]
  },
  {
   "cell_type": "code",
   "execution_count": 124,
   "metadata": {},
   "outputs": [],
   "source": [
    "preds = model_4.predict(X1_test)"
   ]
  },
  {
   "cell_type": "markdown",
   "metadata": {},
   "source": [
    "#### Model evaluation for lemmatized body text"
   ]
  },
  {
   "cell_type": "code",
   "execution_count": 125,
   "metadata": {
    "scrolled": true
   },
   "outputs": [
    {
     "data": {
      "image/png": "[encoded data removed]",
      "text/plain": [
       "<Figure size 432x288 with 2 Axes>"
      ]
     },
     "metadata": {
      "needs_background": "light"
     },
     "output_type": "display_data"
    }
   ],
   "source": [
    "# https://github.com/justmarkham/scikit-learn-tips/blob/master/notebooks/20_plot_confusion_matrix.ipynb\n",
    "\n",
    "metrics.plot_confusion_matrix(model_4, X1_test, y1_test, cmap='Blues', \n",
    "                      values_format='d', display_labels=['cooking', 'vegan']);"
   ]
  },
  {
   "cell_type": "code",
   "execution_count": 126,
   "metadata": {},
   "outputs": [
    {
     "data": {
      "text/plain": [
       "0.9381387842926304"
      ]
     },
     "execution_count": 126,
     "metadata": {},
     "output_type": "execute_result"
    }
   ],
   "source": [
    "metrics.accuracy_score(y1_test, preds)"
   ]
  },
  {
   "cell_type": "code",
   "execution_count": 127,
   "metadata": {},
   "outputs": [
    {
     "data": {
      "text/plain": [
       "0.8381294964028777"
      ]
     },
     "execution_count": 127,
     "metadata": {},
     "output_type": "execute_result"
    }
   ],
   "source": [
    "metrics.recall_score(y1_test, preds)"
   ]
  },
  {
   "cell_type": "code",
   "execution_count": 128,
   "metadata": {},
   "outputs": [
    {
     "data": {
      "text/plain": [
       "0.9490835030549898"
      ]
     },
     "execution_count": 128,
     "metadata": {},
     "output_type": "execute_result"
    }
   ],
   "source": [
    "metrics.precision_score(y1_test, preds)"
   ]
  },
  {
   "cell_type": "markdown",
   "metadata": {},
   "source": [
    "**Conclusions**: The accuracy of the model is very good. The percent of correct positive predictions, as measured by the precision score, is particularly good, reflecting that the model predicts posts that belong in the vegan subreddit particularly well. It overfits the vegan subreddit, likely."
   ]
  },
  {
   "cell_type": "markdown",
   "metadata": {},
   "source": [
    "### In order to get feature importances, run the model again with the best parameters"
   ]
  },
  {
   "cell_type": "code",
   "execution_count": 129,
   "metadata": {},
   "outputs": [],
   "source": [
    "# Instantiate best model above\n",
    "tvec = TfidfVectorizer(stop_words = 'english',\n",
    "                       max_features = 3000,\n",
    "                       max_df = .85\n",
    ")"
   ]
  },
  {
   "cell_type": "code",
   "execution_count": 130,
   "metadata": {},
   "outputs": [
    {
     "data": {
      "text/plain": [
       "TfidfVectorizer(max_df=0.85, max_features=3000, stop_words='english')"
      ]
     },
     "execution_count": 130,
     "metadata": {},
     "output_type": "execute_result"
    }
   ],
   "source": [
    "# fit on data used above\n",
    "tvec.fit(X1_train)"
   ]
  },
  {
   "cell_type": "code",
   "execution_count": 131,
   "metadata": {},
   "outputs": [],
   "source": [
    "# get vectorized data and add target column\n",
    "df_tvec = pd.DataFrame(tvec.transform(X1_train).todense(),\n",
    "                  columns = tvec.get_feature_names())"
   ]
  },
  {
   "cell_type": "code",
   "execution_count": 132,
   "metadata": {},
   "outputs": [],
   "source": [
    "# run random forest model\n",
    "rf = RandomForestClassifier(class_weight='balanced', \n",
    "                            max_depth = 15,\n",
    "                            n_jobs = -1)"
   ]
  },
  {
   "cell_type": "code",
   "execution_count": 133,
   "metadata": {},
   "outputs": [
    {
     "data": {
      "text/plain": [
       "RandomForestClassifier(class_weight='balanced', max_depth=15, n_jobs=-1)"
      ]
     },
     "execution_count": 133,
     "metadata": {},
     "output_type": "execute_result"
    }
   ],
   "source": [
    "rf.fit(df_tvec, y1_train)"
   ]
  },
  {
   "cell_type": "code",
   "execution_count": 134,
   "metadata": {},
   "outputs": [],
   "source": [
    "feat_table = pd.Series(rf.feature_importances_, index=df_tvec.columns)"
   ]
  },
  {
   "cell_type": "code",
   "execution_count": 135,
   "metadata": {},
   "outputs": [
    {
     "data": {
      "text/plain": [
       "vegan       0.183052\n",
       "animal      0.049452\n",
       "recipe      0.032499\n",
       "cooking     0.031945\n",
       "veganism    0.029530\n",
       "cook        0.028441\n",
       "diet        0.018488\n",
       "people      0.017623\n",
       "eating      0.017421\n",
       "product     0.017024\n",
       "sauce       0.013535\n",
       "salt        0.012779\n",
       "meat        0.011026\n",
       "cooked      0.009999\n",
       "pan         0.009853\n",
       "dtype: float64"
      ]
     },
     "execution_count": 135,
     "metadata": {},
     "output_type": "execute_result"
    }
   ],
   "source": [
    "feat_table.sort_values(ascending=False).head(15)"
   ]
  },
  {
   "cell_type": "markdown",
   "metadata": {},
   "source": [
    "**Conclusion**: The main story from these feature importances is that \"animal\" and \"recipe\" are important distinguishing words. It seems like the vegan subreddit talks about animal rights in the abstract and that the cooking subreddit contains recipes, while the vegan subreddit does not contain nearly as high of a proportion of recipes."
   ]
  },
  {
   "cell_type": "markdown",
   "metadata": {},
   "source": [
    "## Get top words in lemmatized body for each subreddit"
   ]
  },
  {
   "cell_type": "markdown",
   "metadata": {},
   "source": [
    "### The current dataframe contains a lemmatized body column. Create new dataframes for each subreddit to count lemmatized body words in each subreddit"
   ]
  },
  {
   "cell_type": "code",
   "execution_count": 136,
   "metadata": {
    "scrolled": true
   },
   "outputs": [
    {
     "data": {
      "text/html": [
       "<div>\n",
       "<style scoped>\n",
       "    .dataframe tbody tr th:only-of-type {\n",
       "        vertical-align: middle;\n",
       "    }\n",
       "\n",
       "    .dataframe tbody tr th {\n",
       "        vertical-align: top;\n",
       "    }\n",
       "\n",
       "    .dataframe thead th {\n",
       "        text-align: right;\n",
       "    }\n",
       "</style>\n",
       "<table border=\"1\" class=\"dataframe\">\n",
       "  <thead>\n",
       "    <tr style=\"text-align: right;\">\n",
       "      <th></th>\n",
       "      <th>id</th>\n",
       "      <th>title</th>\n",
       "      <th>body</th>\n",
       "      <th>num_comments</th>\n",
       "      <th>upvotes</th>\n",
       "      <th>time_posted</th>\n",
       "      <th>time_now</th>\n",
       "      <th>time_delta</th>\n",
       "      <th>subreddit</th>\n",
       "      <th>body_length</th>\n",
       "      <th>title_length</th>\n",
       "      <th>lemmatized_title</th>\n",
       "      <th>lemmatized_body</th>\n",
       "    </tr>\n",
       "  </thead>\n",
       "  <tbody>\n",
       "    <tr>\n",
       "      <th>0</th>\n",
       "      <td>jvq4pp</td>\n",
       "      <td>psa if you hate peta thats because a right win...</td>\n",
       "      <td>a huge smear campaign started by peta kills an...</td>\n",
       "      <td>901</td>\n",
       "      <td>2829</td>\n",
       "      <td>1.605605e+09</td>\n",
       "      <td>2021-05-16 11:36:28.594755</td>\n",
       "      <td>180 days 02:07:37.594756</td>\n",
       "      <td>1</td>\n",
       "      <td>280</td>\n",
       "      <td>16</td>\n",
       "      <td>psa if you hate peta thats because a right win...</td>\n",
       "      <td>a huge smear campaign started by peta kill ani...</td>\n",
       "    </tr>\n",
       "    <tr>\n",
       "      <th>1</th>\n",
       "      <td>114zvn</td>\n",
       "      <td>i was a vegan for several months until this pa...</td>\n",
       "      <td>they said that the goats ate only fresh goat f...</td>\n",
       "      <td>239</td>\n",
       "      <td>0</td>\n",
       "      <td>1.349707e+09</td>\n",
       "      <td>2021-05-16 11:36:28.594762</td>\n",
       "      <td>3141 days 21:06:08.594763</td>\n",
       "      <td>1</td>\n",
       "      <td>300</td>\n",
       "      <td>38</td>\n",
       "      <td>i wa a vegan for several month until this past...</td>\n",
       "      <td>they said that the goat ate only fresh goat fe...</td>\n",
       "    </tr>\n",
       "    <tr>\n",
       "      <th>2</th>\n",
       "      <td>lenglo</td>\n",
       "      <td>why are vegan subs so cowardly when it comes t...</td>\n",
       "      <td>i m pretty sure i was just quietly banned edit...</td>\n",
       "      <td>75</td>\n",
       "      <td>3</td>\n",
       "      <td>1.612708e+09</td>\n",
       "      <td>2021-05-16 11:36:28.594795</td>\n",
       "      <td>97 days 21:07:42.594795</td>\n",
       "      <td>1</td>\n",
       "      <td>321</td>\n",
       "      <td>13</td>\n",
       "      <td>why are vegan sub so cowardly when it come to ...</td>\n",
       "      <td>i m pretty sure i wa just quietly banned edit ...</td>\n",
       "    </tr>\n",
       "    <tr>\n",
       "      <th>3</th>\n",
       "      <td>ixiq4p</td>\n",
       "      <td>white veganism and why its problematic</td>\n",
       "      <td>personally im a person of color and it frustra...</td>\n",
       "      <td>64</td>\n",
       "      <td>0</td>\n",
       "      <td>1.600759e+09</td>\n",
       "      <td>2021-05-16 11:36:28.594806</td>\n",
       "      <td>236 days 04:18:37.594806</td>\n",
       "      <td>1</td>\n",
       "      <td>382</td>\n",
       "      <td>6</td>\n",
       "      <td>white veganism and why it problematic</td>\n",
       "      <td>personally im a person of color and it frustra...</td>\n",
       "    </tr>\n",
       "    <tr>\n",
       "      <th>4</th>\n",
       "      <td>giowc5</td>\n",
       "      <td>tired of cigarette smokers calling themselves ...</td>\n",
       "      <td>you literally can t smoke cigarettes and be a ...</td>\n",
       "      <td>14</td>\n",
       "      <td>1</td>\n",
       "      <td>1.589333e+09</td>\n",
       "      <td>2021-05-16 11:36:28.594824</td>\n",
       "      <td>368 days 10:20:15.594824</td>\n",
       "      <td>1</td>\n",
       "      <td>93</td>\n",
       "      <td>7</td>\n",
       "      <td>tired of cigarette smoker calling themselves v...</td>\n",
       "      <td>you literally can t smoke cigarette and be a v...</td>\n",
       "    </tr>\n",
       "  </tbody>\n",
       "</table>\n",
       "</div>"
      ],
      "text/plain": [
       "       id                                              title  \\\n",
       "0  jvq4pp  psa if you hate peta thats because a right win...   \n",
       "1  114zvn  i was a vegan for several months until this pa...   \n",
       "2  lenglo  why are vegan subs so cowardly when it comes t...   \n",
       "3  ixiq4p             white veganism and why its problematic   \n",
       "4  giowc5  tired of cigarette smokers calling themselves ...   \n",
       "\n",
       "                                                body  num_comments  upvotes  \\\n",
       "0  a huge smear campaign started by peta kills an...           901     2829   \n",
       "1  they said that the goats ate only fresh goat f...           239        0   \n",
       "2  i m pretty sure i was just quietly banned edit...            75        3   \n",
       "3  personally im a person of color and it frustra...            64        0   \n",
       "4  you literally can t smoke cigarettes and be a ...            14        1   \n",
       "\n",
       "    time_posted                    time_now                 time_delta  \\\n",
       "0  1.605605e+09  2021-05-16 11:36:28.594755   180 days 02:07:37.594756   \n",
       "1  1.349707e+09  2021-05-16 11:36:28.594762  3141 days 21:06:08.594763   \n",
       "2  1.612708e+09  2021-05-16 11:36:28.594795    97 days 21:07:42.594795   \n",
       "3  1.600759e+09  2021-05-16 11:36:28.594806   236 days 04:18:37.594806   \n",
       "4  1.589333e+09  2021-05-16 11:36:28.594824   368 days 10:20:15.594824   \n",
       "\n",
       "   subreddit  body_length  title_length  \\\n",
       "0          1          280            16   \n",
       "1          1          300            38   \n",
       "2          1          321            13   \n",
       "3          1          382             6   \n",
       "4          1           93             7   \n",
       "\n",
       "                                    lemmatized_title  \\\n",
       "0  psa if you hate peta thats because a right win...   \n",
       "1  i wa a vegan for several month until this past...   \n",
       "2  why are vegan sub so cowardly when it come to ...   \n",
       "3              white veganism and why it problematic   \n",
       "4  tired of cigarette smoker calling themselves v...   \n",
       "\n",
       "                                     lemmatized_body  \n",
       "0  a huge smear campaign started by peta kill ani...  \n",
       "1  they said that the goat ate only fresh goat fe...  \n",
       "2  i m pretty sure i wa just quietly banned edit ...  \n",
       "3  personally im a person of color and it frustra...  \n",
       "4  you literally can t smoke cigarette and be a v...  "
      ]
     },
     "execution_count": 136,
     "metadata": {},
     "output_type": "execute_result"
    }
   ],
   "source": [
    "df.head()"
   ]
  },
  {
   "cell_type": "code",
   "execution_count": 137,
   "metadata": {},
   "outputs": [
    {
     "data": {
      "text/html": [
       "<div>\n",
       "<style scoped>\n",
       "    .dataframe tbody tr th:only-of-type {\n",
       "        vertical-align: middle;\n",
       "    }\n",
       "\n",
       "    .dataframe tbody tr th {\n",
       "        vertical-align: top;\n",
       "    }\n",
       "\n",
       "    .dataframe thead th {\n",
       "        text-align: right;\n",
       "    }\n",
       "</style>\n",
       "<table border=\"1\" class=\"dataframe\">\n",
       "  <thead>\n",
       "    <tr style=\"text-align: right;\">\n",
       "      <th></th>\n",
       "      <th>id</th>\n",
       "      <th>title</th>\n",
       "      <th>body</th>\n",
       "      <th>num_comments</th>\n",
       "      <th>upvotes</th>\n",
       "      <th>time_posted</th>\n",
       "      <th>time_now</th>\n",
       "      <th>time_delta</th>\n",
       "      <th>subreddit</th>\n",
       "      <th>body_length</th>\n",
       "      <th>title_length</th>\n",
       "      <th>lemmatized_title</th>\n",
       "      <th>lemmatized_body</th>\n",
       "    </tr>\n",
       "  </thead>\n",
       "  <tbody>\n",
       "    <tr>\n",
       "      <th>0</th>\n",
       "      <td>jvq4pp</td>\n",
       "      <td>psa if you hate peta thats because a right win...</td>\n",
       "      <td>a huge smear campaign started by peta kills an...</td>\n",
       "      <td>901</td>\n",
       "      <td>2829</td>\n",
       "      <td>1.605605e+09</td>\n",
       "      <td>2021-05-16 11:36:28.594755</td>\n",
       "      <td>180 days 02:07:37.594756</td>\n",
       "      <td>1</td>\n",
       "      <td>280</td>\n",
       "      <td>16</td>\n",
       "      <td>psa if you hate peta thats because a right win...</td>\n",
       "      <td>a huge smear campaign started by peta kill ani...</td>\n",
       "    </tr>\n",
       "    <tr>\n",
       "      <th>1</th>\n",
       "      <td>114zvn</td>\n",
       "      <td>i was a vegan for several months until this pa...</td>\n",
       "      <td>they said that the goats ate only fresh goat f...</td>\n",
       "      <td>239</td>\n",
       "      <td>0</td>\n",
       "      <td>1.349707e+09</td>\n",
       "      <td>2021-05-16 11:36:28.594762</td>\n",
       "      <td>3141 days 21:06:08.594763</td>\n",
       "      <td>1</td>\n",
       "      <td>300</td>\n",
       "      <td>38</td>\n",
       "      <td>i wa a vegan for several month until this past...</td>\n",
       "      <td>they said that the goat ate only fresh goat fe...</td>\n",
       "    </tr>\n",
       "    <tr>\n",
       "      <th>2</th>\n",
       "      <td>lenglo</td>\n",
       "      <td>why are vegan subs so cowardly when it comes t...</td>\n",
       "      <td>i m pretty sure i was just quietly banned edit...</td>\n",
       "      <td>75</td>\n",
       "      <td>3</td>\n",
       "      <td>1.612708e+09</td>\n",
       "      <td>2021-05-16 11:36:28.594795</td>\n",
       "      <td>97 days 21:07:42.594795</td>\n",
       "      <td>1</td>\n",
       "      <td>321</td>\n",
       "      <td>13</td>\n",
       "      <td>why are vegan sub so cowardly when it come to ...</td>\n",
       "      <td>i m pretty sure i wa just quietly banned edit ...</td>\n",
       "    </tr>\n",
       "    <tr>\n",
       "      <th>3</th>\n",
       "      <td>ixiq4p</td>\n",
       "      <td>white veganism and why its problematic</td>\n",
       "      <td>personally im a person of color and it frustra...</td>\n",
       "      <td>64</td>\n",
       "      <td>0</td>\n",
       "      <td>1.600759e+09</td>\n",
       "      <td>2021-05-16 11:36:28.594806</td>\n",
       "      <td>236 days 04:18:37.594806</td>\n",
       "      <td>1</td>\n",
       "      <td>382</td>\n",
       "      <td>6</td>\n",
       "      <td>white veganism and why it problematic</td>\n",
       "      <td>personally im a person of color and it frustra...</td>\n",
       "    </tr>\n",
       "    <tr>\n",
       "      <th>4</th>\n",
       "      <td>giowc5</td>\n",
       "      <td>tired of cigarette smokers calling themselves ...</td>\n",
       "      <td>you literally can t smoke cigarettes and be a ...</td>\n",
       "      <td>14</td>\n",
       "      <td>1</td>\n",
       "      <td>1.589333e+09</td>\n",
       "      <td>2021-05-16 11:36:28.594824</td>\n",
       "      <td>368 days 10:20:15.594824</td>\n",
       "      <td>1</td>\n",
       "      <td>93</td>\n",
       "      <td>7</td>\n",
       "      <td>tired of cigarette smoker calling themselves v...</td>\n",
       "      <td>you literally can t smoke cigarette and be a v...</td>\n",
       "    </tr>\n",
       "  </tbody>\n",
       "</table>\n",
       "</div>"
      ],
      "text/plain": [
       "       id                                              title  \\\n",
       "0  jvq4pp  psa if you hate peta thats because a right win...   \n",
       "1  114zvn  i was a vegan for several months until this pa...   \n",
       "2  lenglo  why are vegan subs so cowardly when it comes t...   \n",
       "3  ixiq4p             white veganism and why its problematic   \n",
       "4  giowc5  tired of cigarette smokers calling themselves ...   \n",
       "\n",
       "                                                body  num_comments  upvotes  \\\n",
       "0  a huge smear campaign started by peta kills an...           901     2829   \n",
       "1  they said that the goats ate only fresh goat f...           239        0   \n",
       "2  i m pretty sure i was just quietly banned edit...            75        3   \n",
       "3  personally im a person of color and it frustra...            64        0   \n",
       "4  you literally can t smoke cigarettes and be a ...            14        1   \n",
       "\n",
       "    time_posted                    time_now                 time_delta  \\\n",
       "0  1.605605e+09  2021-05-16 11:36:28.594755   180 days 02:07:37.594756   \n",
       "1  1.349707e+09  2021-05-16 11:36:28.594762  3141 days 21:06:08.594763   \n",
       "2  1.612708e+09  2021-05-16 11:36:28.594795    97 days 21:07:42.594795   \n",
       "3  1.600759e+09  2021-05-16 11:36:28.594806   236 days 04:18:37.594806   \n",
       "4  1.589333e+09  2021-05-16 11:36:28.594824   368 days 10:20:15.594824   \n",
       "\n",
       "   subreddit  body_length  title_length  \\\n",
       "0          1          280            16   \n",
       "1          1          300            38   \n",
       "2          1          321            13   \n",
       "3          1          382             6   \n",
       "4          1           93             7   \n",
       "\n",
       "                                    lemmatized_title  \\\n",
       "0  psa if you hate peta thats because a right win...   \n",
       "1  i wa a vegan for several month until this past...   \n",
       "2  why are vegan sub so cowardly when it come to ...   \n",
       "3              white veganism and why it problematic   \n",
       "4  tired of cigarette smoker calling themselves v...   \n",
       "\n",
       "                                     lemmatized_body  \n",
       "0  a huge smear campaign started by peta kill ani...  \n",
       "1  they said that the goat ate only fresh goat fe...  \n",
       "2  i m pretty sure i wa just quietly banned edit ...  \n",
       "3  personally im a person of color and it frustra...  \n",
       "4  you literally can t smoke cigarette and be a v...  "
      ]
     },
     "execution_count": 137,
     "metadata": {},
     "output_type": "execute_result"
    }
   ],
   "source": [
    "# vegan subreddit was binarized to 1\n",
    "df_vegan_gr = df[df['subreddit'] == 1]\n",
    "df_vegan_gr.head()"
   ]
  },
  {
   "cell_type": "code",
   "execution_count": 138,
   "metadata": {},
   "outputs": [
    {
     "data": {
      "text/html": [
       "<div>\n",
       "<style scoped>\n",
       "    .dataframe tbody tr th:only-of-type {\n",
       "        vertical-align: middle;\n",
       "    }\n",
       "\n",
       "    .dataframe tbody tr th {\n",
       "        vertical-align: top;\n",
       "    }\n",
       "\n",
       "    .dataframe thead th {\n",
       "        text-align: right;\n",
       "    }\n",
       "</style>\n",
       "<table border=\"1\" class=\"dataframe\">\n",
       "  <thead>\n",
       "    <tr style=\"text-align: right;\">\n",
       "      <th></th>\n",
       "      <th>id</th>\n",
       "      <th>title</th>\n",
       "      <th>body</th>\n",
       "      <th>num_comments</th>\n",
       "      <th>upvotes</th>\n",
       "      <th>time_posted</th>\n",
       "      <th>time_now</th>\n",
       "      <th>time_delta</th>\n",
       "      <th>subreddit</th>\n",
       "      <th>body_length</th>\n",
       "      <th>title_length</th>\n",
       "      <th>lemmatized_title</th>\n",
       "      <th>lemmatized_body</th>\n",
       "    </tr>\n",
       "  </thead>\n",
       "  <tbody>\n",
       "    <tr>\n",
       "      <th>1669</th>\n",
       "      <td>2pd34q</td>\n",
       "      <td>confessioni dislike crock pots</td>\n",
       "      <td>i know i may get downvotes and accused of bein...</td>\n",
       "      <td>223</td>\n",
       "      <td>20</td>\n",
       "      <td>1.418656e+09</td>\n",
       "      <td>2021-05-16 12:14:20.267206</td>\n",
       "      <td>2343 days 21:15:12.267207</td>\n",
       "      <td>0</td>\n",
       "      <td>246</td>\n",
       "      <td>4</td>\n",
       "      <td>confessioni dislike crock pot</td>\n",
       "      <td>i know i may get downvotes and accused of bein...</td>\n",
       "    </tr>\n",
       "    <tr>\n",
       "      <th>1670</th>\n",
       "      <td>luhfdv</td>\n",
       "      <td>why the fuck would anyone buy an induction stove</td>\n",
       "      <td>i cant express my hatred for these fucking thi...</td>\n",
       "      <td>89</td>\n",
       "      <td>1</td>\n",
       "      <td>1.614523e+09</td>\n",
       "      <td>2021-05-16 12:14:20.267211</td>\n",
       "      <td>76 days 21:41:20.267212</td>\n",
       "      <td>0</td>\n",
       "      <td>73</td>\n",
       "      <td>9</td>\n",
       "      <td>why the fuck would anyone buy an induction stove</td>\n",
       "      <td>i cant express my hatred for these fucking thi...</td>\n",
       "    </tr>\n",
       "    <tr>\n",
       "      <th>1671</th>\n",
       "      <td>5s8944</td>\n",
       "      <td>life pro tips if you buy a pack of salad dont ...</td>\n",
       "      <td>id rather have unfresh dried out edible leafs ...</td>\n",
       "      <td>112</td>\n",
       "      <td>377</td>\n",
       "      <td>1.486312e+09</td>\n",
       "      <td>2021-05-16 12:14:20.267215</td>\n",
       "      <td>1560 days 19:47:43.267216</td>\n",
       "      <td>0</td>\n",
       "      <td>12</td>\n",
       "      <td>50</td>\n",
       "      <td>life pro tip if you buy a pack of salad dont l...</td>\n",
       "      <td>id rather have unfresh dried out edible leaf t...</td>\n",
       "    </tr>\n",
       "    <tr>\n",
       "      <th>1672</th>\n",
       "      <td>lwgoa2</td>\n",
       "      <td>earlier comment</td>\n",
       "      <td>i made a comment earlier today that was insens...</td>\n",
       "      <td>69</td>\n",
       "      <td>23</td>\n",
       "      <td>1.614731e+09</td>\n",
       "      <td>2021-05-16 12:14:20.267219</td>\n",
       "      <td>74 days 11:48:31.267220</td>\n",
       "      <td>0</td>\n",
       "      <td>124</td>\n",
       "      <td>2</td>\n",
       "      <td>earlier comment</td>\n",
       "      <td>i made a comment earlier today that wa insensi...</td>\n",
       "    </tr>\n",
       "    <tr>\n",
       "      <th>1673</th>\n",
       "      <td>38semd</td>\n",
       "      <td>til putting mayo on fish</td>\n",
       "      <td>prevents it from sticking to the grillhttpwwwt...</td>\n",
       "      <td>16</td>\n",
       "      <td>2</td>\n",
       "      <td>1.433592e+09</td>\n",
       "      <td>2021-05-16 12:14:20.267227</td>\n",
       "      <td>2171 days 00:06:35.267227</td>\n",
       "      <td>0</td>\n",
       "      <td>8</td>\n",
       "      <td>5</td>\n",
       "      <td>til putting mayo on fish</td>\n",
       "      <td>prevents it from sticking to the grillhttpwwwt...</td>\n",
       "    </tr>\n",
       "  </tbody>\n",
       "</table>\n",
       "</div>"
      ],
      "text/plain": [
       "          id                                              title  \\\n",
       "1669  2pd34q                     confessioni dislike crock pots   \n",
       "1670  luhfdv   why the fuck would anyone buy an induction stove   \n",
       "1671  5s8944  life pro tips if you buy a pack of salad dont ...   \n",
       "1672  lwgoa2                                    earlier comment   \n",
       "1673  38semd                           til putting mayo on fish   \n",
       "\n",
       "                                                   body  num_comments  \\\n",
       "1669  i know i may get downvotes and accused of bein...           223   \n",
       "1670  i cant express my hatred for these fucking thi...            89   \n",
       "1671  id rather have unfresh dried out edible leafs ...           112   \n",
       "1672  i made a comment earlier today that was insens...            69   \n",
       "1673  prevents it from sticking to the grillhttpwwwt...            16   \n",
       "\n",
       "      upvotes   time_posted                    time_now  \\\n",
       "1669       20  1.418656e+09  2021-05-16 12:14:20.267206   \n",
       "1670        1  1.614523e+09  2021-05-16 12:14:20.267211   \n",
       "1671      377  1.486312e+09  2021-05-16 12:14:20.267215   \n",
       "1672       23  1.614731e+09  2021-05-16 12:14:20.267219   \n",
       "1673        2  1.433592e+09  2021-05-16 12:14:20.267227   \n",
       "\n",
       "                     time_delta  subreddit  body_length  title_length  \\\n",
       "1669  2343 days 21:15:12.267207          0          246             4   \n",
       "1670    76 days 21:41:20.267212          0           73             9   \n",
       "1671  1560 days 19:47:43.267216          0           12            50   \n",
       "1672    74 days 11:48:31.267220          0          124             2   \n",
       "1673  2171 days 00:06:35.267227          0            8             5   \n",
       "\n",
       "                                       lemmatized_title  \\\n",
       "1669                      confessioni dislike crock pot   \n",
       "1670   why the fuck would anyone buy an induction stove   \n",
       "1671  life pro tip if you buy a pack of salad dont l...   \n",
       "1672                                    earlier comment   \n",
       "1673                           til putting mayo on fish   \n",
       "\n",
       "                                        lemmatized_body  \n",
       "1669  i know i may get downvotes and accused of bein...  \n",
       "1670  i cant express my hatred for these fucking thi...  \n",
       "1671  id rather have unfresh dried out edible leaf t...  \n",
       "1672  i made a comment earlier today that wa insensi...  \n",
       "1673  prevents it from sticking to the grillhttpwwwt...  "
      ]
     },
     "execution_count": 138,
     "metadata": {},
     "output_type": "execute_result"
    }
   ],
   "source": [
    "# cooking subreddit was binarized to 0\n",
    "df_cooking_gr = df[df['subreddit'] == 0]\n",
    "df_cooking_gr.head()"
   ]
  },
  {
   "cell_type": "markdown",
   "metadata": {},
   "source": [
    "### Get top words in the cooking subreddit body"
   ]
  },
  {
   "cell_type": "code",
   "execution_count": 139,
   "metadata": {},
   "outputs": [
    {
     "data": {
      "text/plain": [
       "CountVectorizer(stop_words='english')"
      ]
     },
     "execution_count": 139,
     "metadata": {},
     "output_type": "execute_result"
    }
   ],
   "source": [
    "# Initialize and fit count vectorizer. Remove stop words but leave\n",
    "# foreign words for possible cooking terminology.\n",
    "cvec_cooking = CountVectorizer(stop_words = 'english')\n",
    "cvec_cooking.fit(df_cooking_gr['lemmatized_body'])"
   ]
  },
  {
   "cell_type": "code",
   "execution_count": 140,
   "metadata": {},
   "outputs": [
    {
     "data": {
      "text/html": [
       "<div>\n",
       "<style scoped>\n",
       "    .dataframe tbody tr th:only-of-type {\n",
       "        vertical-align: middle;\n",
       "    }\n",
       "\n",
       "    .dataframe tbody tr th {\n",
       "        vertical-align: top;\n",
       "    }\n",
       "\n",
       "    .dataframe thead th {\n",
       "        text-align: right;\n",
       "    }\n",
       "</style>\n",
       "<table border=\"1\" class=\"dataframe\">\n",
       "  <thead>\n",
       "    <tr style=\"text-align: right;\">\n",
       "      <th></th>\n",
       "      <th>aa</th>\n",
       "      <th>aaa</th>\n",
       "      <th>aaaaaand</th>\n",
       "      <th>aaaaah</th>\n",
       "      <th>aaabag</th>\n",
       "      <th>aaabaghttpswwwyoutubecomwatchv</th>\n",
       "      <th>aaabaghttpswwwyoutubecomwatchvddqvam</th>\n",
       "      <th>aaajm</th>\n",
       "      <th>aah</th>\n",
       "      <th>aai</th>\n",
       "      <th>...</th>\n",
       "      <th>zuccini</th>\n",
       "      <th>zuxrthwkxkqbwsrcqqkfzxusqbuqq</th>\n",
       "      <th>zvkukxcwcumzokl</th>\n",
       "      <th>zw</th>\n",
       "      <th>zwhttpswwwyoutubecomwatchvtuhc</th>\n",
       "      <th>zwilling</th>\n",
       "      <th>zwillinghttpswwwbedbathandbeyondcomstoreproductzwillingjahenckelsenergyplusnonstickstainlesssteel</th>\n",
       "      <th>zwillings</th>\n",
       "      <th>zxrk</th>\n",
       "      <th>zyb</th>\n",
       "    </tr>\n",
       "  </thead>\n",
       "  <tbody>\n",
       "    <tr>\n",
       "      <th>0</th>\n",
       "      <td>0</td>\n",
       "      <td>0</td>\n",
       "      <td>0</td>\n",
       "      <td>0</td>\n",
       "      <td>0</td>\n",
       "      <td>0</td>\n",
       "      <td>0</td>\n",
       "      <td>0</td>\n",
       "      <td>0</td>\n",
       "      <td>0</td>\n",
       "      <td>...</td>\n",
       "      <td>0</td>\n",
       "      <td>0</td>\n",
       "      <td>0</td>\n",
       "      <td>0</td>\n",
       "      <td>0</td>\n",
       "      <td>0</td>\n",
       "      <td>0</td>\n",
       "      <td>0</td>\n",
       "      <td>0</td>\n",
       "      <td>0</td>\n",
       "    </tr>\n",
       "    <tr>\n",
       "      <th>1</th>\n",
       "      <td>0</td>\n",
       "      <td>0</td>\n",
       "      <td>0</td>\n",
       "      <td>0</td>\n",
       "      <td>0</td>\n",
       "      <td>0</td>\n",
       "      <td>0</td>\n",
       "      <td>0</td>\n",
       "      <td>0</td>\n",
       "      <td>0</td>\n",
       "      <td>...</td>\n",
       "      <td>0</td>\n",
       "      <td>0</td>\n",
       "      <td>0</td>\n",
       "      <td>0</td>\n",
       "      <td>0</td>\n",
       "      <td>0</td>\n",
       "      <td>0</td>\n",
       "      <td>0</td>\n",
       "      <td>0</td>\n",
       "      <td>0</td>\n",
       "    </tr>\n",
       "    <tr>\n",
       "      <th>2</th>\n",
       "      <td>0</td>\n",
       "      <td>0</td>\n",
       "      <td>0</td>\n",
       "      <td>0</td>\n",
       "      <td>0</td>\n",
       "      <td>0</td>\n",
       "      <td>0</td>\n",
       "      <td>0</td>\n",
       "      <td>0</td>\n",
       "      <td>0</td>\n",
       "      <td>...</td>\n",
       "      <td>0</td>\n",
       "      <td>0</td>\n",
       "      <td>0</td>\n",
       "      <td>0</td>\n",
       "      <td>0</td>\n",
       "      <td>0</td>\n",
       "      <td>0</td>\n",
       "      <td>0</td>\n",
       "      <td>0</td>\n",
       "      <td>0</td>\n",
       "    </tr>\n",
       "    <tr>\n",
       "      <th>3</th>\n",
       "      <td>0</td>\n",
       "      <td>0</td>\n",
       "      <td>0</td>\n",
       "      <td>0</td>\n",
       "      <td>0</td>\n",
       "      <td>0</td>\n",
       "      <td>0</td>\n",
       "      <td>0</td>\n",
       "      <td>0</td>\n",
       "      <td>0</td>\n",
       "      <td>...</td>\n",
       "      <td>0</td>\n",
       "      <td>0</td>\n",
       "      <td>0</td>\n",
       "      <td>0</td>\n",
       "      <td>0</td>\n",
       "      <td>0</td>\n",
       "      <td>0</td>\n",
       "      <td>0</td>\n",
       "      <td>0</td>\n",
       "      <td>0</td>\n",
       "    </tr>\n",
       "    <tr>\n",
       "      <th>4</th>\n",
       "      <td>0</td>\n",
       "      <td>0</td>\n",
       "      <td>0</td>\n",
       "      <td>0</td>\n",
       "      <td>0</td>\n",
       "      <td>0</td>\n",
       "      <td>0</td>\n",
       "      <td>0</td>\n",
       "      <td>0</td>\n",
       "      <td>0</td>\n",
       "      <td>...</td>\n",
       "      <td>0</td>\n",
       "      <td>0</td>\n",
       "      <td>0</td>\n",
       "      <td>0</td>\n",
       "      <td>0</td>\n",
       "      <td>0</td>\n",
       "      <td>0</td>\n",
       "      <td>0</td>\n",
       "      <td>0</td>\n",
       "      <td>0</td>\n",
       "    </tr>\n",
       "    <tr>\n",
       "      <th>5</th>\n",
       "      <td>0</td>\n",
       "      <td>0</td>\n",
       "      <td>0</td>\n",
       "      <td>0</td>\n",
       "      <td>0</td>\n",
       "      <td>0</td>\n",
       "      <td>0</td>\n",
       "      <td>0</td>\n",
       "      <td>0</td>\n",
       "      <td>0</td>\n",
       "      <td>...</td>\n",
       "      <td>0</td>\n",
       "      <td>0</td>\n",
       "      <td>0</td>\n",
       "      <td>0</td>\n",
       "      <td>0</td>\n",
       "      <td>0</td>\n",
       "      <td>0</td>\n",
       "      <td>0</td>\n",
       "      <td>0</td>\n",
       "      <td>0</td>\n",
       "    </tr>\n",
       "    <tr>\n",
       "      <th>6</th>\n",
       "      <td>0</td>\n",
       "      <td>0</td>\n",
       "      <td>0</td>\n",
       "      <td>0</td>\n",
       "      <td>0</td>\n",
       "      <td>0</td>\n",
       "      <td>0</td>\n",
       "      <td>0</td>\n",
       "      <td>0</td>\n",
       "      <td>0</td>\n",
       "      <td>...</td>\n",
       "      <td>0</td>\n",
       "      <td>0</td>\n",
       "      <td>0</td>\n",
       "      <td>0</td>\n",
       "      <td>0</td>\n",
       "      <td>0</td>\n",
       "      <td>0</td>\n",
       "      <td>0</td>\n",
       "      <td>0</td>\n",
       "      <td>0</td>\n",
       "    </tr>\n",
       "    <tr>\n",
       "      <th>7</th>\n",
       "      <td>0</td>\n",
       "      <td>0</td>\n",
       "      <td>0</td>\n",
       "      <td>0</td>\n",
       "      <td>0</td>\n",
       "      <td>0</td>\n",
       "      <td>0</td>\n",
       "      <td>0</td>\n",
       "      <td>0</td>\n",
       "      <td>0</td>\n",
       "      <td>...</td>\n",
       "      <td>0</td>\n",
       "      <td>0</td>\n",
       "      <td>0</td>\n",
       "      <td>0</td>\n",
       "      <td>0</td>\n",
       "      <td>0</td>\n",
       "      <td>0</td>\n",
       "      <td>0</td>\n",
       "      <td>0</td>\n",
       "      <td>0</td>\n",
       "    </tr>\n",
       "    <tr>\n",
       "      <th>8</th>\n",
       "      <td>0</td>\n",
       "      <td>0</td>\n",
       "      <td>0</td>\n",
       "      <td>0</td>\n",
       "      <td>0</td>\n",
       "      <td>0</td>\n",
       "      <td>0</td>\n",
       "      <td>0</td>\n",
       "      <td>0</td>\n",
       "      <td>0</td>\n",
       "      <td>...</td>\n",
       "      <td>0</td>\n",
       "      <td>0</td>\n",
       "      <td>0</td>\n",
       "      <td>0</td>\n",
       "      <td>0</td>\n",
       "      <td>0</td>\n",
       "      <td>0</td>\n",
       "      <td>0</td>\n",
       "      <td>0</td>\n",
       "      <td>0</td>\n",
       "    </tr>\n",
       "    <tr>\n",
       "      <th>9</th>\n",
       "      <td>0</td>\n",
       "      <td>0</td>\n",
       "      <td>0</td>\n",
       "      <td>0</td>\n",
       "      <td>0</td>\n",
       "      <td>0</td>\n",
       "      <td>0</td>\n",
       "      <td>0</td>\n",
       "      <td>0</td>\n",
       "      <td>0</td>\n",
       "      <td>...</td>\n",
       "      <td>0</td>\n",
       "      <td>0</td>\n",
       "      <td>0</td>\n",
       "      <td>0</td>\n",
       "      <td>0</td>\n",
       "      <td>0</td>\n",
       "      <td>0</td>\n",
       "      <td>0</td>\n",
       "      <td>0</td>\n",
       "      <td>0</td>\n",
       "    </tr>\n",
       "  </tbody>\n",
       "</table>\n",
       "<p>10 rows × 17273 columns</p>\n",
       "</div>"
      ],
      "text/plain": [
       "   aa  aaa  aaaaaand  aaaaah  aaabag  aaabaghttpswwwyoutubecomwatchv  \\\n",
       "0   0    0         0       0       0                               0   \n",
       "1   0    0         0       0       0                               0   \n",
       "2   0    0         0       0       0                               0   \n",
       "3   0    0         0       0       0                               0   \n",
       "4   0    0         0       0       0                               0   \n",
       "5   0    0         0       0       0                               0   \n",
       "6   0    0         0       0       0                               0   \n",
       "7   0    0         0       0       0                               0   \n",
       "8   0    0         0       0       0                               0   \n",
       "9   0    0         0       0       0                               0   \n",
       "\n",
       "   aaabaghttpswwwyoutubecomwatchvddqvam  aaajm  aah  aai  ...  zuccini  \\\n",
       "0                                     0      0    0    0  ...        0   \n",
       "1                                     0      0    0    0  ...        0   \n",
       "2                                     0      0    0    0  ...        0   \n",
       "3                                     0      0    0    0  ...        0   \n",
       "4                                     0      0    0    0  ...        0   \n",
       "5                                     0      0    0    0  ...        0   \n",
       "6                                     0      0    0    0  ...        0   \n",
       "7                                     0      0    0    0  ...        0   \n",
       "8                                     0      0    0    0  ...        0   \n",
       "9                                     0      0    0    0  ...        0   \n",
       "\n",
       "   zuxrthwkxkqbwsrcqqkfzxusqbuqq  zvkukxcwcumzokl  zw  \\\n",
       "0                              0                0   0   \n",
       "1                              0                0   0   \n",
       "2                              0                0   0   \n",
       "3                              0                0   0   \n",
       "4                              0                0   0   \n",
       "5                              0                0   0   \n",
       "6                              0                0   0   \n",
       "7                              0                0   0   \n",
       "8                              0                0   0   \n",
       "9                              0                0   0   \n",
       "\n",
       "   zwhttpswwwyoutubecomwatchvtuhc  zwilling  \\\n",
       "0                               0         0   \n",
       "1                               0         0   \n",
       "2                               0         0   \n",
       "3                               0         0   \n",
       "4                               0         0   \n",
       "5                               0         0   \n",
       "6                               0         0   \n",
       "7                               0         0   \n",
       "8                               0         0   \n",
       "9                               0         0   \n",
       "\n",
       "   zwillinghttpswwwbedbathandbeyondcomstoreproductzwillingjahenckelsenergyplusnonstickstainlesssteel  \\\n",
       "0                                                  0                                                   \n",
       "1                                                  0                                                   \n",
       "2                                                  0                                                   \n",
       "3                                                  0                                                   \n",
       "4                                                  0                                                   \n",
       "5                                                  0                                                   \n",
       "6                                                  0                                                   \n",
       "7                                                  0                                                   \n",
       "8                                                  0                                                   \n",
       "9                                                  0                                                   \n",
       "\n",
       "   zwillings  zxrk  zyb  \n",
       "0          0     0    0  \n",
       "1          0     0    0  \n",
       "2          0     0    0  \n",
       "3          0     0    0  \n",
       "4          0     0    0  \n",
       "5          0     0    0  \n",
       "6          0     0    0  \n",
       "7          0     0    0  \n",
       "8          0     0    0  \n",
       "9          0     0    0  \n",
       "\n",
       "[10 rows x 17273 columns]"
      ]
     },
     "execution_count": 140,
     "metadata": {},
     "output_type": "execute_result"
    }
   ],
   "source": [
    "# Put in a dataframe\n",
    "df_cv_cooking = pd.DataFrame(cvec_cooking.transform(df_cooking_gr['lemmatized_body']).todense(),             \n",
    "                  columns = cvec_cooking.get_feature_names())\n",
    "df_cv_cooking.head(10)"
   ]
  },
  {
   "cell_type": "code",
   "execution_count": 141,
   "metadata": {},
   "outputs": [],
   "source": [
    "# referred to https://stackoverflow.com/questions/60758625/sort-pandas-dataframe-by-sum-of-columns\n",
    "top_cooking = df_cv_cooking.sum().nlargest(15)"
   ]
  },
  {
   "cell_type": "code",
   "execution_count": 142,
   "metadata": {
    "scrolled": false
   },
   "outputs": [
    {
     "data": {
      "text/plain": [
       "wa         2829\n",
       "like       2583\n",
       "just       2560\n",
       "im         2284\n",
       "make       2259\n",
       "recipe     2253\n",
       "cooking    1784\n",
       "cook       1670\n",
       "food       1555\n",
       "time       1408\n",
       "know       1321\n",
       "good       1289\n",
       "sauce      1252\n",
       "use        1252\n",
       "chicken    1158\n",
       "dtype: int64"
      ]
     },
     "execution_count": 142,
     "metadata": {},
     "output_type": "execute_result"
    }
   ],
   "source": [
    "top_cooking"
   ]
  },
  {
   "cell_type": "code",
   "execution_count": 143,
   "metadata": {},
   "outputs": [
    {
     "data": {
      "text/plain": [
       "<AxesSubplot:>"
      ]
     },
     "execution_count": 143,
     "metadata": {},
     "output_type": "execute_result"
    },
    {
     "data": {
      "image/png": "[encoded data removed]",
      "text/plain": [
       "<Figure size 432x288 with 1 Axes>"
      ]
     },
     "metadata": {
      "needs_background": "light"
     },
     "output_type": "display_data"
    }
   ],
   "source": [
    "top_cooking.plot(kind='bar')"
   ]
  },
  {
   "cell_type": "markdown",
   "metadata": {},
   "source": [
    "### Get top words in the vegan subreddit body"
   ]
  },
  {
   "cell_type": "code",
   "execution_count": 144,
   "metadata": {},
   "outputs": [
    {
     "data": {
      "text/plain": [
       "CountVectorizer(stop_words='english')"
      ]
     },
     "execution_count": 144,
     "metadata": {},
     "output_type": "execute_result"
    }
   ],
   "source": [
    "# Initialize and fit count vectorizer. Remove stop words but leave\n",
    "# foreign words for possible cooking terminology.\n",
    "cvec_vegan = CountVectorizer(stop_words = 'english')\n",
    "cvec_vegan.fit(df_vegan_gr['lemmatized_body'])"
   ]
  },
  {
   "cell_type": "code",
   "execution_count": 145,
   "metadata": {},
   "outputs": [],
   "source": [
    "# put in a dataframe\n",
    "df_cv_vegan = pd.DataFrame(cvec_vegan.transform(df_vegan_gr['lemmatized_body']).todense(),             \n",
    "                  columns = cvec_vegan.get_feature_names())"
   ]
  },
  {
   "cell_type": "code",
   "execution_count": 146,
   "metadata": {},
   "outputs": [],
   "source": [
    "# referred to https://stackoverflow.com/questions/60758625/sort-pandas-dataframe-by-sum-of-columns\n",
    "top_vegan = df_cv_vegan.sum().nlargest(15)"
   ]
  },
  {
   "cell_type": "code",
   "execution_count": 147,
   "metadata": {
    "scrolled": true
   },
   "outputs": [
    {
     "data": {
      "text/plain": [
       "vegan     3642\n",
       "animal    1998\n",
       "just      1434\n",
       "like      1344\n",
       "wa        1298\n",
       "people    1227\n",
       "meat      1155\n",
       "im        1089\n",
       "eat        889\n",
       "know       862\n",
       "dont       795\n",
       "food       771\n",
       "think      672\n",
       "make       659\n",
       "want       658\n",
       "dtype: int64"
      ]
     },
     "execution_count": 147,
     "metadata": {},
     "output_type": "execute_result"
    }
   ],
   "source": [
    "top_vegan"
   ]
  },
  {
   "cell_type": "code",
   "execution_count": 148,
   "metadata": {},
   "outputs": [
    {
     "data": {
      "text/plain": [
       "<AxesSubplot:>"
      ]
     },
     "execution_count": 148,
     "metadata": {},
     "output_type": "execute_result"
    },
    {
     "data": {
      "image/png": "[encoded data removed]",
      "text/plain": [
       "<Figure size 432x288 with 1 Axes>"
      ]
     },
     "metadata": {
      "needs_background": "light"
     },
     "output_type": "display_data"
    }
   ],
   "source": [
    "top_vegan.plot(kind='bar')"
   ]
  },
  {
   "cell_type": "markdown",
   "metadata": {},
   "source": [
    "# Conclusions\n",
    "- Two of the top words that could distinguish the classes were \"animal\" and \"recipe\"\n",
    "- In r/Cooking, the most common words included \"recipe\", \"sauce\", and \"chicken\"\n",
    "- In r/vegan, the most common words included \"animal\", \"people\", and \"think\"\n",
    "- r/vegan is focused on conversation about animal rights and values, and that r/Cooking is focused on conversation about recipes."
   ]
  },
  {
   "cell_type": "code",
   "execution_count": null,
   "metadata": {},
   "outputs": [],
   "source": []
  }
 ],
 "metadata": {
  "kernelspec": {
   "display_name": "Python 3",
   "language": "python",
   "name": "python3"
  },
  "language_info": {
   "codemirror_mode": {
    "name": "ipython",
    "version": 3
   },
   "file_extension": ".py",
   "mimetype": "text/x-python",
   "name": "python",
   "nbconvert_exporter": "python",
   "pygments_lexer": "ipython3",
   "version": "3.8.5"
  }
 },
 "nbformat": 4,
 "nbformat_minor": 4
}
